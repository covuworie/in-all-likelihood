{
 "cells": [
  {
   "cell_type": "code",
   "execution_count": null,
   "metadata": {},
   "outputs": [],
   "source": [
    "import matplotlib.pyplot as plt\n",
    "import numpy as np\n",
    "from scipy.interpolate import interp1d\n",
    "from typing import Tuple"
   ]
  },
  {
   "cell_type": "code",
   "execution_count": null,
   "metadata": {},
   "outputs": [],
   "source": [
    "k = np.array([0, 1, 2, 3, 4, 12])\n",
    "n_k = np.array([38, 26, 8, 2, 1, 1])\n",
    "print(\"k = \", k)\n",
    "print(\"n_k = \", n_k)"
   ]
  },
  {
   "cell_type": "code",
   "execution_count": null,
   "metadata": {},
   "outputs": [],
   "source": [
    "p_k = n_k / np.sum(n_k)\n",
    "print(\"p_k = \", p_k)"
   ]
  },
  {
   "cell_type": "code",
   "execution_count": null,
   "metadata": {},
   "outputs": [],
   "source": [
    "def poisson_plot(k: np.ndarray, p_k: np.ndarray) -> None:\n",
    "    k_factorial = np.array([np.math.factorial(num) for num in k])\n",
    "    plt.plot(k, np.log(p_k * k_factorial), 'o')\n",
    "    plt.xlabel('k')\n",
    "    plt.ylabel(r'Log($p_k$ k!)');\n",
    "    plt.title('(a) Poisson plot')"
   ]
  },
  {
   "cell_type": "code",
   "execution_count": null,
   "metadata": {},
   "outputs": [],
   "source": [
    "poisson_plot(k, p_k)"
   ]
  },
  {
   "cell_type": "code",
   "execution_count": null,
   "metadata": {},
   "outputs": [],
   "source": [
    "def poisson_likelihood(k: np.ndarray, n_k: np.ndarray, theta: np.ndarray) -> np.ndarray:\n",
    "    log_like = -theta * np.sum(n_k) + np.sum(k * n_k) * np.log(theta)\n",
    "    like = np.exp(log_like)\n",
    "    like /= np.max(like)\n",
    "    return like"
   ]
  },
  {
   "cell_type": "code",
   "execution_count": null,
   "metadata": {},
   "outputs": [],
   "source": [
    "theta = np.linspace(0.01, 1.4, 50)\n",
    "likelihood = poisson_likelihood(k, n_k, theta)\n",
    "likelihood_sans_last = poisson_likelihood(k[:-1], n_k[:-1], theta)"
   ]
  },
  {
   "cell_type": "code",
   "execution_count": null,
   "metadata": {},
   "outputs": [],
   "source": [
    "def plot_likelihood_functions(\n",
    "    theta: np.ndarray,\n",
    "    likelihood: np.array,\n",
    "    likelihood_sans_last: np.array) -> np.ndarray:\n",
    "    plt.plot(theta, likelihood)\n",
    "    plt.plot(theta, likelihood_sans_last, '--')\n",
    "    plt.axhline(y=0.15)\n",
    "    plt.xlabel(r'$\\theta$')\n",
    "    plt.ylabel('Likelihood');\n",
    "    plt.legend(['All data', 'Data without k=12'])\n",
    "    plt.title('(b) Likelihood functions');"
   ]
  },
  {
   "cell_type": "code",
   "execution_count": null,
   "metadata": {},
   "outputs": [],
   "source": [
    "plot_likelihood_functions(theta, likelihood, likelihood_sans_last)"
   ]
  },
  {
   "cell_type": "code",
   "execution_count": null,
   "metadata": {},
   "outputs": [],
   "source": [
    "def likelihood_interval(theta: np.ndarray,\n",
    "                        likelihood: np.ndarray,\n",
    "                        cutoff: float) -> Tuple[float, float]:\n",
    "    # intersection points occur below and above the maximum likelihood estimate\n",
    "    mle_index = np.argmax(likelihood)\n",
    "    interp_below_max = interp1d(likelihood[:mle_index], theta[:mle_index])\n",
    "    interp_above_max = interp1d(likelihood[mle_index:], theta[mle_index :])\n",
    "    lower_int = np.round(interp_below_max(cutoff).flatten()[0], 2)\n",
    "    upper_int = np.round(interp_above_max(cutoff).flatten()[0], 2)\n",
    "    return (lower_int, upper_int)"
   ]
  },
  {
   "cell_type": "code",
   "execution_count": null,
   "metadata": {},
   "outputs": [],
   "source": [
    "c = 0.15\n",
    "print(f'Approximate 95% CI all data = {likelihood_interval(theta, likelihood, c)}')\n",
    "print(f'Approximate 95% CI data without k = 12 = {likelihood_interval(theta, likelihood_sans_last, c)}')"
   ]
  },
  {
   "cell_type": "code",
   "execution_count": null,
   "metadata": {},
   "outputs": [],
   "source": [
    "def poisson_mle(k: np.ndarray, n_k: np.ndarray) -> float:\n",
    "    mle = np.sum(k * n_k) / np.sum(n_k)\n",
    "    return mle"
   ]
  },
  {
   "cell_type": "code",
   "execution_count": null,
   "metadata": {},
   "outputs": [],
   "source": [
    "theta_hat = poisson_mle(k, n_k)\n",
    "theta_hat_sans_last = poisson_mle(k[:-1], n_k[:-1])\n",
    "print(f'MLE theta_hat all data = ', np.round(theta_hat, 2))\n",
    "print(f'MLE theta_hat data without k = 12 = ', np.round(theta_hat_sans_last, 2))"
   ]
  }
 ],
 "metadata": {
  "kernelspec": {
   "display_name": "Python 3",
   "language": "python",
   "name": "python3"
  },
  "language_info": {
   "codemirror_mode": {
    "name": "ipython",
    "version": 3
   },
   "file_extension": ".py",
   "mimetype": "text/x-python",
   "name": "python",
   "nbconvert_exporter": "python",
   "pygments_lexer": "ipython3",
   "version": "3.7.3"
  }
 },
 "nbformat": 4,
 "nbformat_minor": 4
}
