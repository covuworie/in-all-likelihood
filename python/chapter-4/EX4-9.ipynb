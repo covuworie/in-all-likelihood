{
 "cells": [
  {
   "cell_type": "code",
   "execution_count": null,
   "metadata": {},
   "outputs": [],
   "source": [
    "import matplotlib.pyplot as plt\n",
    "import numpy as np\n",
    "from scipy.special import loggamma"
   ]
  },
  {
   "cell_type": "code",
   "execution_count": null,
   "metadata": {},
   "outputs": [],
   "source": [
    "data = [23.91, 27.33, 0.15, 3.65, 5.99, 0.88, 0.93, 0.53,\n",
    "        0.17, 14.17, 6.18, 0.05, 3.89, 0.24, 0.08]"
   ]
  },
  {
   "cell_type": "code",
   "execution_count": null,
   "metadata": {},
   "outputs": [],
   "source": [
    "def likelihood_gamma(mu: np.ndarray, phi: float, data: np.ndarray) -> np.ndarray:\n",
    "    n = len(data)\n",
    "    alpha = 1 / phi\n",
    "    lam = phi * mu\n",
    "    log_like = ((alpha - 1) * np.sum(np.log(data))\n",
    "                - n * loggamma(alpha)\n",
    "                - n * alpha * np.log(lam)\n",
    "                - (1 / lam) * np.sum(data))\n",
    "    like = np.exp(log_like)\n",
    "    return like"
   ]
  },
  {
   "cell_type": "code",
   "execution_count": null,
   "metadata": {},
   "outputs": [],
   "source": [
    "mu = np.linspace(np.mean(data) / 3, np.mean(data) * 3, 100)\n",
    "phi = np.linspace(1, 4, 100)"
   ]
  },
  {
   "cell_type": "code",
   "execution_count": null,
   "metadata": {},
   "outputs": [],
   "source": [
    "likelihood = np.array([likelihood_gamma(m, phi, data) for m in mu])\n",
    "likelihood /= np.max(likelihood)"
   ]
  },
  {
   "cell_type": "code",
   "execution_count": null,
   "metadata": {},
   "outputs": [],
   "source": [
    "contours = plt.contour(\n",
    "    mu, phi, likelihood, levels=[0.1, 0.3, 0.5, 0.7, 0.9], colors='black')\n",
    "plt.clabel(contours, inline=True, fontsize=8, fmt='%1.1f')\n",
    "plt.xlim(0, np.max(mu))\n",
    "plt.xlabel(r'$\\mu$')\n",
    "plt.ylabel(r'$\\phi$')\n",
    "plt.title('(a) Likelihood contour');"
   ]
  },
  {
   "cell_type": "markdown",
   "metadata": {},
   "source": [
    "I am not sure why there is a difference between this contour plot and the one in the book. This looks correct to me as evidenced by the fact that the profile likelihood plot below matches the one in the book."
   ]
  },
  {
   "cell_type": "code",
   "execution_count": null,
   "metadata": {},
   "outputs": [],
   "source": [
    "def plot_profile_likelihood(\n",
    "    mu: np.ndarray,\n",
    "    likelihood_profile: np.array,\n",
    "    likelihood_max: np.array,\n",
    "    likelihood_exp: np.array) -> None:\n",
    "    plt.plot(mu, likelihood_profile)\n",
    "    plt.plot(mu, likelihood_max, '.', markersize=3)\n",
    "    plt.plot(mu, likelihood_exp, '--')\n",
    "    plt.axhline(y=0.15, linewidth=1)\n",
    "    plt.xlabel(r'$\\mu$')\n",
    "    plt.ylabel('Likelihood')\n",
    "    plt.legend(['Gamma', r'Gamma $\\phi$ = 2.35', r'Exponential'])\n",
    "    plt.title(r\"(b) Likelihood of $\\mu$\");"
   ]
  },
  {
   "cell_type": "code",
   "execution_count": null,
   "metadata": {},
   "outputs": [],
   "source": [
    "mu = np.linspace(np.mean(data) / 3, np.mean(data) * 3, 100)\n",
    "likelihood_profile = np.apply_along_axis(np.max, 1, likelihood)\n",
    "likelihood_profile /= np.max(likelihood_profile)\n",
    "likelihood_max = likelihood_gamma(mu, phi=2.35, data=data)\n",
    "likelihood_max /= np.max(likelihood_max)\n",
    "likelihood_exp = likelihood_gamma(mu, phi=1, data=data)\n",
    "likelihood_exp /= np.max(likelihood_exp)"
   ]
  },
  {
   "cell_type": "code",
   "execution_count": null,
   "metadata": {},
   "outputs": [],
   "source": [
    "plot_profile_likelihood(mu, likelihood_profile, likelihood_max, likelihood_exp)"
   ]
  }
 ],
 "metadata": {
  "kernelspec": {
   "display_name": "Python 3",
   "language": "python",
   "name": "python3"
  },
  "language_info": {
   "codemirror_mode": {
    "name": "ipython",
    "version": 3
   },
   "file_extension": ".py",
   "mimetype": "text/x-python",
   "name": "python",
   "nbconvert_exporter": "python",
   "pygments_lexer": "ipython3",
   "version": "3.7.3"
  }
 },
 "nbformat": 4,
 "nbformat_minor": 4
}
