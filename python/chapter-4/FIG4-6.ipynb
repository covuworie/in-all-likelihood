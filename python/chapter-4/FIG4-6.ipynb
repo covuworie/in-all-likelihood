{
 "cells": [
  {
   "cell_type": "code",
   "execution_count": null,
   "metadata": {},
   "outputs": [],
   "source": [
    "import matplotlib.pyplot as plt\n",
    "import numpy\n",
    "from scipy.interpolate import interp1d\n",
    "from typing import Tuple"
   ]
  },
  {
   "cell_type": "code",
   "execution_count": null,
   "metadata": {},
   "outputs": [],
   "source": [
    "na = 11037\n",
    "np = 11034\n",
    "xa = 139\n",
    "xp = 239\n",
    "theta = numpy.linspace(0.2, 0.99, 100)"
   ]
  },
  {
   "cell_type": "code",
   "execution_count": null,
   "metadata": {},
   "outputs": [],
   "source": [
    "def profile_likelihood(theta: numpy.ndarray,\n",
    "                       na: float,\n",
    "                       np: float,\n",
    "                       xa: float,\n",
    "                       xp: float) -> numpy.ndarray:\n",
    "    ratio = na * theta / (na * theta + np)\n",
    "    log_like = xa * numpy.log(ratio) + xp * numpy.log(1 - ratio)\n",
    "    like = numpy.exp(log_like)\n",
    "    like /= numpy.max(like)\n",
    "    return like"
   ]
  },
  {
   "cell_type": "code",
   "execution_count": null,
   "metadata": {},
   "outputs": [],
   "source": [
    "def likelihood_interval(theta: numpy.ndarray,\n",
    "                        likelihood: numpy.ndarray,\n",
    "                        cutoff: float) -> Tuple[float, float]:\n",
    "    # intersection points occur below and above the maximum likelihood estimate\n",
    "    mle_index = numpy.argmax(likelihood)\n",
    "    interp_below_max = interp1d(likelihood[:mle_index], theta[:mle_index])\n",
    "    interp_above_max = interp1d(likelihood[mle_index:], theta[mle_index :])\n",
    "    lower_int = numpy.round(interp_below_max(cutoff).flatten()[0], 2)\n",
    "    upper_int = numpy.round(interp_above_max(cutoff).flatten()[0], 2)\n",
    "    return (lower_int, upper_int)"
   ]
  },
  {
   "cell_type": "code",
   "execution_count": null,
   "metadata": {},
   "outputs": [],
   "source": [
    "def plot_profile_likelihood(\n",
    "    theta: numpy.ndarray,\n",
    "    likelihood: numpy.array,\n",
    "    title='') -> None:\n",
    "    plt.plot(theta, likelihood)\n",
    "    plt.axhline(y=0.15, linewidth=1)\n",
    "    if title.startswith(\"(b)\"):\n",
    "        plt.axvline(x=1.0, linewidth=1)\n",
    "    plt.xlabel(r'$\\theta$')\n",
    "    plt.ylabel('Likelihood')\n",
    "    plt.title(title);"
   ]
  },
  {
   "cell_type": "code",
   "execution_count": null,
   "metadata": {},
   "outputs": [],
   "source": [
    "likelihood = profile_likelihood(theta, na, np, xa, xp)\n",
    "plot_profile_likelihood(theta, likelihood, title='(a) Heart attacks')"
   ]
  },
  {
   "cell_type": "code",
   "execution_count": null,
   "metadata": {},
   "outputs": [],
   "source": [
    "ci = likelihood_interval(theta, likelihood, 0.15)\n",
    "print(f\"95% CI = \", ci)"
   ]
  },
  {
   "cell_type": "code",
   "execution_count": null,
   "metadata": {},
   "outputs": [],
   "source": [
    "na = 11037\n",
    "np = 11034\n",
    "xa = 119\n",
    "xp = 98\n",
    "theta = numpy.linspace(0.7, 1.99, 100)"
   ]
  },
  {
   "cell_type": "code",
   "execution_count": null,
   "metadata": {},
   "outputs": [],
   "source": [
    "likelihood = profile_likelihood(theta, na, np, xa, xp)\n",
    "plot_profile_likelihood(theta, likelihood, title='(b) Strokes')"
   ]
  },
  {
   "cell_type": "code",
   "execution_count": null,
   "metadata": {},
   "outputs": [],
   "source": [
    "ci = likelihood_interval(theta, likelihood, 0.15)\n",
    "print(f\"95% CI = \", ci)"
   ]
  }
 ],
 "metadata": {
  "kernelspec": {
   "display_name": "Python 3",
   "language": "python",
   "name": "python3"
  },
  "language_info": {
   "codemirror_mode": {
    "name": "ipython",
    "version": 3
   },
   "file_extension": ".py",
   "mimetype": "text/x-python",
   "name": "python",
   "nbconvert_exporter": "python",
   "pygments_lexer": "ipython3",
   "version": "3.7.3"
  }
 },
 "nbformat": 4,
 "nbformat_minor": 4
}
