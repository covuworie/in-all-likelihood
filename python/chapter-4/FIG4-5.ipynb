{
 "cells": [
  {
   "cell_type": "code",
   "execution_count": null,
   "metadata": {},
   "outputs": [],
   "source": [
    "import matplotlib.pyplot as plt\n",
    "import numpy as np\n",
    "from scipy.interpolate import interp1d\n",
    "from typing import Tuple"
   ]
  },
  {
   "cell_type": "code",
   "execution_count": null,
   "metadata": {},
   "outputs": [],
   "source": [
    "x = 170\n",
    "y = 190\n",
    "theta = np.linspace(0.7, 1.7, 100)"
   ]
  },
  {
   "cell_type": "code",
   "execution_count": null,
   "metadata": {},
   "outputs": [],
   "source": [
    "def mle(x: float, y: float) -> float:\n",
    "    return y/x\n",
    "\n",
    "def profile_likelihood(theta: np.ndarray, x: float, y: float) -> np.ndarray:\n",
    "    log_like = y * np.log(theta / (1 + theta)) + x * np.log(1 / (1 + theta))\n",
    "    like = np.exp(log_like)\n",
    "    like /= np.max(like)\n",
    "    return like"
   ]
  },
  {
   "cell_type": "code",
   "execution_count": null,
   "metadata": {},
   "outputs": [],
   "source": [
    "def likelihood_interval(theta: np.ndarray,\n",
    "                        likelihood: np.ndarray,\n",
    "                        cutoff: float) -> Tuple[float, float]:\n",
    "    # intersection points occur below and above the maximum likelihood estimate\n",
    "    mle_index = np.argmax(likelihood)\n",
    "    interp_below_max = interp1d(likelihood[:mle_index], theta[:mle_index])\n",
    "    interp_above_max = interp1d(likelihood[mle_index:], theta[mle_index :])\n",
    "    lower_int = np.round(interp_below_max(cutoff).flatten()[0], 2)\n",
    "    upper_int = np.round(interp_above_max(cutoff).flatten()[0], 2)\n",
    "    return (lower_int, upper_int)"
   ]
  },
  {
   "cell_type": "code",
   "execution_count": null,
   "metadata": {},
   "outputs": [],
   "source": [
    "def plot_profile_likelihood(\n",
    "    theta: np.ndarray,\n",
    "    likelihood: np.array,\n",
    "    mle=None,\n",
    "    title='') -> None:\n",
    "    plt.plot(theta, likelihood)\n",
    "    plt.axhline(y=0.15, linewidth=1)\n",
    "    if mle:\n",
    "        plt.axvline(x=mle, linewidth=1)\n",
    "    plt.xlabel(r'$\\theta$')\n",
    "    plt.ylabel('Likelihood')\n",
    "    plt.title(title);"
   ]
  },
  {
   "cell_type": "code",
   "execution_count": null,
   "metadata": {},
   "outputs": [],
   "source": [
    "likelihood = profile_likelihood(theta, x, y)\n",
    "plot_profile_likelihood(theta, likelihood, mle=mle(x, y),\n",
    "                        title='(a) Likelihood of rate ratio')"
   ]
  },
  {
   "cell_type": "code",
   "execution_count": null,
   "metadata": {},
   "outputs": [],
   "source": [
    "theta_hat = mle(x, y)\n",
    "ci = likelihood_interval(theta, likelihood, 0.15)\n",
    "print(f\"mle = {np.round(theta_hat, 2)}, 95% CI = \", ci)"
   ]
  },
  {
   "cell_type": "code",
   "execution_count": null,
   "metadata": {},
   "outputs": [],
   "source": [
    "xx = np.array([20, 40, 75, 10])\n",
    "yy = np.array([35, 54, 65, 2])"
   ]
  },
  {
   "cell_type": "code",
   "execution_count": null,
   "metadata": {},
   "outputs": [],
   "source": [
    "theta = np.linspace(0.01, 4, 100)\n",
    "for i in range(len(xx)):\n",
    "    likelihood = profile_likelihood(theta, xx[i], yy[i])\n",
    "    plot_profile_likelihood(theta, likelihood, title='(b) For four groups')\n",
    "    theta_hat = mle(xx[i], yy[i])\n",
    "    ci = likelihood_interval(theta, likelihood, 0.15)\n",
    "    print(f\"x = {xx[i]}, y = {yy[i]}, mle = {np.round(theta_hat, 2)}, 95% CI = \", ci)"
   ]
  }
 ],
 "metadata": {
  "kernelspec": {
   "display_name": "Python 3",
   "language": "python",
   "name": "python3"
  },
  "language_info": {
   "codemirror_mode": {
    "name": "ipython",
    "version": 3
   },
   "file_extension": ".py",
   "mimetype": "text/x-python",
   "name": "python",
   "nbconvert_exporter": "python",
   "pygments_lexer": "ipython3",
   "version": "3.7.3"
  }
 },
 "nbformat": 4,
 "nbformat_minor": 4
}
