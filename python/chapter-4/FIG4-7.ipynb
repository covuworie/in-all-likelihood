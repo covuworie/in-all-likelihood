{
 "cells": [
  {
   "cell_type": "code",
   "execution_count": null,
   "metadata": {},
   "outputs": [],
   "source": [
    "import matplotlib.pyplot as plt\n",
    "import numpy\n",
    "from scipy.interpolate import interp1d\n",
    "from scipy.stats import norm\n",
    "from typing import Tuple"
   ]
  },
  {
   "cell_type": "code",
   "execution_count": null,
   "metadata": {},
   "outputs": [],
   "source": [
    "na = 11037\n",
    "np = 11034\n",
    "xa = 139\n",
    "xp = 239\n",
    "theta = numpy.linspace(0.2, 0.99, 100)"
   ]
  },
  {
   "cell_type": "code",
   "execution_count": null,
   "metadata": {},
   "outputs": [],
   "source": [
    "def mle_pi(xa: float, xp: float) -> float:\n",
    "    return xa / (xa + xp)\n",
    "\n",
    "def mle_theta(pi_hat: float) -> float:\n",
    "    return pi_hat / (1 - pi_hat)\n",
    " \n",
    "def var_mle_theta(xa: float, xp: float, pi_hat: float) -> float:\n",
    "    return pi_hat / ((xa + xp) * (1 - pi_hat) **3)"
   ]
  },
  {
   "cell_type": "code",
   "execution_count": null,
   "metadata": {},
   "outputs": [],
   "source": [
    "pi_hat = mle_pi(xa, xp)\n",
    "theta_hat = mle_theta(pi_hat)\n",
    "var_theta_hat = var_mle_theta(xa, xp, pi_hat)"
   ]
  },
  {
   "cell_type": "code",
   "execution_count": null,
   "metadata": {},
   "outputs": [],
   "source": [
    "def profile_likelihood(\n",
    "    theta: numpy.ndarray,\n",
    "    na: float,\n",
    "    np: float,\n",
    "    xa: float,\n",
    "    xp: float) -> numpy.ndarray:\n",
    "    ratio = na * theta / (na * theta + np)\n",
    "    log_like = xa * numpy.log(ratio) + xp * numpy.log(1 - ratio)\n",
    "    like = numpy.exp(log_like)\n",
    "    like /= numpy.max(like)\n",
    "    return like\n",
    "\n",
    "def profile_likelihood_normal(\n",
    "    theta: numpy.ndarray,\n",
    "    theta_hat: float,\n",
    "    var_theta_hat: float) -> numpy.ndarray:\n",
    "    like = norm.pdf(theta, loc=theta_hat, scale=numpy.sqrt(var_theta_hat))\n",
    "    like /= numpy.max(like)\n",
    "    return like"
   ]
  },
  {
   "cell_type": "code",
   "execution_count": null,
   "metadata": {},
   "outputs": [],
   "source": [
    "def plot_profile_likelihood(\n",
    "    theta: numpy.ndarray,\n",
    "    likelihood: numpy.array,\n",
    "    likelihood_normal: numpy.array,\n",
    "    title='') -> None:\n",
    "    plt.plot(theta, likelihood)\n",
    "    plt.plot(theta, likelihood_normal, '--')\n",
    "    plt.axhline(y=0.15, linewidth=1)\n",
    "    if title.startswith(\"(b)\"):\n",
    "        plt.axvline(x=1.0, linewidth=1)\n",
    "    plt.xlabel(r'$\\theta$')\n",
    "    plt.ylabel('Likelihood')\n",
    "    plt.legend(['Poisson model', 'Normal approx'])\n",
    "    plt.title(title);"
   ]
  },
  {
   "cell_type": "code",
   "execution_count": null,
   "metadata": {},
   "outputs": [],
   "source": [
    "likelihood = profile_likelihood(theta, na, np, xa, xp)\n",
    "likelihood_normal = profile_likelihood_normal(theta, theta_hat, var_theta_hat)\n",
    "plot_profile_likelihood(\n",
    "    theta, likelihood, likelihood_normal, title='(a) Heart attacks')"
   ]
  },
  {
   "cell_type": "code",
   "execution_count": null,
   "metadata": {},
   "outputs": [],
   "source": [
    "na = 11037\n",
    "np = 11034\n",
    "xa = 119\n",
    "xp = 98\n",
    "theta = numpy.linspace(0.7, 1.99, 100)"
   ]
  },
  {
   "cell_type": "code",
   "execution_count": null,
   "metadata": {},
   "outputs": [],
   "source": [
    "pi_hat = mle_pi(xa, xp)\n",
    "theta_hat = mle_theta(pi_hat)\n",
    "var_theta_hat = var_mle_theta(xa, xp, pi_hat)"
   ]
  },
  {
   "cell_type": "code",
   "execution_count": null,
   "metadata": {},
   "outputs": [],
   "source": [
    "likelihood = profile_likelihood(theta, na, np, xa, xp)\n",
    "likelihood_normal = profile_likelihood_normal(theta, theta_hat, var_theta_hat)\n",
    "plot_profile_likelihood(theta, likelihood, likelihood_normal, title='(b) Strokes')"
   ]
  }
 ],
 "metadata": {
  "kernelspec": {
   "display_name": "Python 3",
   "language": "python",
   "name": "python3"
  },
  "language_info": {
   "codemirror_mode": {
    "name": "ipython",
    "version": 3
   },
   "file_extension": ".py",
   "mimetype": "text/x-python",
   "name": "python",
   "nbconvert_exporter": "python",
   "pygments_lexer": "ipython3",
   "version": "3.7.3"
  }
 },
 "nbformat": 4,
 "nbformat_minor": 4
}
