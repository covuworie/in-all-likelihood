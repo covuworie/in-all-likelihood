{
 "cells": [
  {
   "cell_type": "code",
   "execution_count": null,
   "metadata": {},
   "outputs": [],
   "source": [
    "import matplotlib.pyplot as plt\n",
    "import numpy as np\n",
    "from scipy.stats import poisson, probplot, tvar"
   ]
  },
  {
   "cell_type": "code",
   "execution_count": null,
   "metadata": {},
   "outputs": [],
   "source": [
    "data = [0, 10, 1, 1, 1, 2, 1, 4, 11, 0, 5, 2, 5, 2, 0, 2, 0, 1, 3, 0]"
   ]
  },
  {
   "cell_type": "code",
   "execution_count": null,
   "metadata": {},
   "outputs": [],
   "source": [
    "x_bar = np.mean(data)\n",
    "s_squared = tvar(data)\n",
    "phi_hat = s_squared / x_bar\n",
    "print(\n",
    "    f'sample mean = {np.round(x_bar, 2)},'\n",
    "    f' sample variance = {np.round(s_squared, 2)},'\n",
    "    f' phi_hat = {np.round(phi_hat, 2)}')"
   ]
  },
  {
   "cell_type": "code",
   "execution_count": null,
   "metadata": {},
   "outputs": [],
   "source": [
    "n_samples = 500\n",
    "samples = np.array([poisson.rvs(mu=x_bar, size=20) for i in range(n_samples)])\n",
    "x_bars = samples.mean(axis=1)\n",
    "s_squareds = np.array([tvar(sample) for sample in samples])\n",
    "phi_hats = s_squareds / x_bars\n",
    "p_value = np.sum(phi_hats > x_bar) / n_samples\n",
    "print(f'P-value = {p_value}')"
   ]
  },
  {
   "cell_type": "code",
   "execution_count": null,
   "metadata": {},
   "outputs": [],
   "source": [
    "def qq_plot(data: np.ndarray) -> None:\n",
    "    probplot(data, dist='norm', fit=False, plot=plt)\n",
    "    plt.title(r'(a) Simpulated $\\hat{\\phi}$')\n",
    "    plt.xlabel('Standard normal quantiles')\n",
    "    plt.ylabel(r'$\\hat{\\phi}$')\n",
    "    plt.show()"
   ]
  },
  {
   "cell_type": "code",
   "execution_count": null,
   "metadata": {},
   "outputs": [],
   "source": [
    "qq_plot(phi_hats)"
   ]
  },
  {
   "cell_type": "code",
   "execution_count": null,
   "metadata": {},
   "outputs": [],
   "source": [
    "def likelihood_poisson(mu: np.ndarray, phi: float, data: np.ndarray) -> np.ndarray:\n",
    "    n = len(data)\n",
    "    log_like = (np.log(mu) * np.sum(data) - n * mu) / phi\n",
    "    like = np.exp(log_like)\n",
    "    like /= np.max(like)\n",
    "    return like"
   ]
  },
  {
   "cell_type": "code",
   "execution_count": null,
   "metadata": {},
   "outputs": [],
   "source": [
    "mu = np.linspace(0.5, 5.0, num=50)\n",
    "likelihood_phi = likelihood_poisson(mu, phi_hat, data)\n",
    "likelihood_1 = likelihood_poisson(mu, 1, data)"
   ]
  },
  {
   "cell_type": "code",
   "execution_count": null,
   "metadata": {},
   "outputs": [],
   "source": [
    "def plot_profile_likelihood(\n",
    "    mu: np.ndarray,\n",
    "    likelihood_phi: np.array,\n",
    "    likelihood_1: np.array) -> None:\n",
    "    plt.plot(mu, likelihood_phi)\n",
    "    plt.plot(mu, likelihood_1, '.', markersize=3)\n",
    "    plt.axhline(y=0.15, linewidth=1)\n",
    "    plt.axvline(x=x_bar, linewidth=1)\n",
    "    plt.xlabel(r'$\\mu$')\n",
    "    plt.ylabel('Likelihood')\n",
    "    plt.legend([r'$\\hat{\\phi}$ = 3.86', r'$\\phi$ = 1'])\n",
    "    plt.title(r'(b) Likelihood of $\\mu$');"
   ]
  },
  {
   "cell_type": "code",
   "execution_count": null,
   "metadata": {},
   "outputs": [],
   "source": [
    "plot_profile_likelihood(mu, likelihood_phi, likelihood_1)"
   ]
  }
 ],
 "metadata": {
  "kernelspec": {
   "display_name": "Python 3",
   "language": "python",
   "name": "python3"
  },
  "language_info": {
   "codemirror_mode": {
    "name": "ipython",
    "version": 3
   },
   "file_extension": ".py",
   "mimetype": "text/x-python",
   "name": "python",
   "nbconvert_exporter": "python",
   "pygments_lexer": "ipython3",
   "version": "3.7.3"
  }
 },
 "nbformat": 4,
 "nbformat_minor": 4
}
