{
 "cells": [
  {
   "cell_type": "code",
   "execution_count": null,
   "metadata": {},
   "outputs": [],
   "source": [
    "import matplotlib.pyplot as plt\n",
    "import numpy as np\n",
    "from scipy.stats import probplot, tvar"
   ]
  },
  {
   "cell_type": "code",
   "execution_count": null,
   "metadata": {},
   "outputs": [],
   "source": [
    "data = [82, 59, 59, 57, 39, 38, 22, 16, 10, 10, 10, 10, \n",
    "        10, 9, 9, 8, 5, 5, 5, 4, 4, 2, 2, 1, 0.7, 0.4, 0.4]\n",
    "\n",
    "# the r file has one of the 9's replaced by an 8 which is not what is in the book"
   ]
  },
  {
   "cell_type": "code",
   "execution_count": null,
   "metadata": {},
   "outputs": [],
   "source": [
    "def qq_plot(data: np.ndarray, title: str, ylabel: str, ylim: tuple) -> None:\n",
    "    probplot(data, dist='norm', fit=False, plot=plt)\n",
    "    plt.title(title)\n",
    "    plt.xlabel('Quantiles of standard normal')\n",
    "    plt.ylabel(ylabel)\n",
    "    plt.ylim(ylim)\n",
    "    plt.show()"
   ]
  },
  {
   "cell_type": "code",
   "execution_count": null,
   "metadata": {},
   "outputs": [],
   "source": [
    "qq_plot(data, '(a) Population data', 'y', (-2, 85))"
   ]
  },
  {
   "cell_type": "code",
   "execution_count": null,
   "metadata": {},
   "outputs": [],
   "source": [
    "def log_likelihood(lambda_: np.ndarray, data: np.ndarray) -> np.ndarray:\n",
    "    log_like = []\n",
    "    n = len(data)\n",
    "    for lam in lambda_:\n",
    "        y_lambda = (data**lam - 1) / lam\n",
    "        mu_hat = (1 / n) * np.sum(y_lambda)\n",
    "        sigma_sq_hat = tvar(y_lambda) * (n - 1) / n \n",
    "        ll = (-n / 2) * np.log(sigma_sq_hat) + (lam - 1) * np.sum(np.log(data))\n",
    "        log_like.append(ll)\n",
    "    log_like = log_like - np.max(log_like)\n",
    "    return np.array(log_like)"
   ]
  },
  {
   "cell_type": "code",
   "execution_count": null,
   "metadata": {},
   "outputs": [],
   "source": [
    "lambda_ = np.linspace(0.01, 1.5, num=40)\n",
    "log_like = log_likelihood(lambda_, data)\n",
    "lambda_hat = lambda_[np.argmax(log_like)]\n",
    "# not sure why the book says 0.12 as this appears to be correct when inspecting the\n",
    "# log likelihood function\n",
    "print('lambda_hat = ', np.round(lambda_hat, 2))"
   ]
  },
  {
   "cell_type": "code",
   "execution_count": null,
   "metadata": {},
   "outputs": [],
   "source": [
    "def plot_profile_likelihood(\n",
    "    lambda_: np.ndarray,\n",
    "    log_likelihood: np.array,\n",
    "    mle_lambda: float) -> None:\n",
    "    plt.plot(lambda_, log_likelihood)\n",
    "    plt.axvline(x=mle_lambda, linewidth=1)\n",
    "    plt.xlabel(r'$\\lambda$')\n",
    "    plt.ylabel('Log-likelihood')\n",
    "    plt.title(r'(b) Profile likelihood of $\\lambda$');"
   ]
  },
  {
   "cell_type": "code",
   "execution_count": null,
   "metadata": {},
   "outputs": [],
   "source": [
    "plot_profile_likelihood(lambda_, log_like, lambda_hat)"
   ]
  },
  {
   "cell_type": "code",
   "execution_count": null,
   "metadata": {},
   "outputs": [],
   "source": [
    "data_sqrt = np.sqrt(data)\n",
    "qq_plot(data_sqrt, '(c) Square-root transform', r'$\\sqrt{y}$',\n",
    "        (np.min(data_sqrt) - 0.3, np.max(data_sqrt) + 0.3))"
   ]
  },
  {
   "cell_type": "code",
   "execution_count": null,
   "metadata": {},
   "outputs": [],
   "source": [
    "data_log = np.log(data)\n",
    "qq_plot(data_log, '(d) Log-transform', r'$\\log{y}$',\n",
    "        (np.min(data_log) - 0.3, np.max(data_log) + 0.3))"
   ]
  }
 ],
 "metadata": {
  "kernelspec": {
   "display_name": "Python 3",
   "language": "python",
   "name": "python3"
  },
  "language_info": {
   "codemirror_mode": {
    "name": "ipython",
    "version": 3
   },
   "file_extension": ".py",
   "mimetype": "text/x-python",
   "name": "python",
   "nbconvert_exporter": "python",
   "pygments_lexer": "ipython3",
   "version": "3.7.3"
  }
 },
 "nbformat": 4,
 "nbformat_minor": 4
}
