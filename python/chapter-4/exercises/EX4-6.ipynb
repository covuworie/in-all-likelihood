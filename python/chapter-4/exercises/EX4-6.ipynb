{
 "cells": [
  {
   "cell_type": "code",
   "execution_count": null,
   "metadata": {},
   "outputs": [],
   "source": [
    "import matplotlib.pyplot as plt\n",
    "import numpy as np\n",
    "import scipy.special\n",
    "from scipy.optimize import minimize\n",
    "from scipy.stats import geom\n",
    "from typing import Tuple"
   ]
  },
  {
   "cell_type": "code",
   "execution_count": null,
   "metadata": {},
   "outputs": [],
   "source": [
    "cycles = np.array([i for i in range(1, 14)])\n",
    "smokers = np.array([29, 16, 17, 4, 3, 9, 4, 5, 1, 1, 1, 3, 7])\n",
    "non_smokers = np.array([198, 107, 55, 38, 18, 22, 7, 9, 5, 3, 6, 6, 12])"
   ]
  },
  {
   "cell_type": "markdown",
   "metadata": {},
   "source": [
    "(a) Fitting a geometric model to the group of smokers and the group of non-smokers we can compare the estimated probability of pregnancy per cycle."
   ]
  },
  {
   "cell_type": "code",
   "execution_count": null,
   "metadata": {},
   "outputs": [],
   "source": [
    "def plot_pregnancy_per_cycle(\n",
    "    cyles: np.ndarray,\n",
    "    pregnancy_counts: np.ndarray,\n",
    "    title_label: str) -> None:\n",
    "    p = pregnancy_counts[0] / np.sum(pregnancy_counts)\n",
    "    prob = geom.pmf(cycles, p)\n",
    "    plt.bar(cycles, prob)\n",
    "    plt.xlabel('Number of cycles')\n",
    "    plt.ylabel('Probability p')\n",
    "    plt.title(f'Probability of pregnancy per cycle for {title_label}');"
   ]
  },
  {
   "cell_type": "code",
   "execution_count": null,
   "metadata": {},
   "outputs": [],
   "source": [
    "plot_pregnancy_per_cycle(cycles, smokers, 'smokers')"
   ]
  },
  {
   "cell_type": "code",
   "execution_count": null,
   "metadata": {},
   "outputs": [],
   "source": [
    "plot_pregnancy_per_cycle(cycles, non_smokers, 'non-smokers')"
   ]
  },
  {
   "cell_type": "markdown",
   "metadata": {},
   "source": [
    "From the plots it seems that the probability of getting pregnant in less cycles is higher for non-smokers. "
   ]
  },
  {
   "cell_type": "markdown",
   "metadata": {},
   "source": [
    "(b) To check the adequacy of the geometric model we follow the Example (4.6) by plotting a Geometric plot. The idea is to plot the number of cycles k against a function of the counts $n_k$ that is expected to be a straight line for Geometric data. Since $p_k = P(X = k) = (1 - p)^{k - 1}p$, then\n",
    "\n",
    "$$\n",
    "\\log p_k = k \\log(1 - p) + \\log \\Big( \\frac{p}{1 - p} \\Big)\n",
    "$$\n",
    "\n",
    "indicating that we should plot $\\log p_k$ versus $k$, where $p_k$ is estimated by $n_k \\big/ \\sum n_k$."
   ]
  },
  {
   "cell_type": "code",
   "execution_count": null,
   "metadata": {},
   "outputs": [],
   "source": [
    "def geometric_plot(cycles: np.ndarray, counts: np.ndarray) -> None:\n",
    "    p_k = counts / np.sum(counts)\n",
    "    plt.plot(cycles, np.log(p_k), 'o')\n",
    "    plt.xlabel('Number of cycles k')\n",
    "    plt.ylabel(r'Log($p_k$)');\n",
    "    plt.title('(a) Geometric plot')"
   ]
  },
  {
   "cell_type": "code",
   "execution_count": null,
   "metadata": {},
   "outputs": [],
   "source": [
    "geometric_plot(cycles, smokers)"
   ]
  },
  {
   "cell_type": "code",
   "execution_count": null,
   "metadata": {},
   "outputs": [],
   "source": [
    "geometric_plot(cycles, non_smokers)"
   ]
  },
  {
   "cell_type": "markdown",
   "metadata": {},
   "source": [
    "It is clear that for both smokers and non-smokers the data does not follow a Geometric prescription."
   ]
  },
  {
   "cell_type": "markdown",
   "metadata": {},
   "source": [
    "(c) We are told that conditional on $p$ to let the pregancy counts $X_p \\sim geom(p)$, where the probability of pregnancy per cycle $p$ itself is random with beta distribution with density:\n",
    "\n",
    "$$\n",
    "f(p) = \\frac{1}{B(\\alpha, \\beta)}p^{\\alpha - 1} (1 - p)^{\\beta - 1}\n",
    "$$\n",
    "\n",
    "The beta-geometric probabilities are given by\n",
    "\n",
    "\\begin{align}\n",
    "P(X = k) & = E \\big[ P (X_p = k | p) \\big]  \\\\\n",
    "& = E \\big[ (1 - p)^{k-1}p \\big] \\\\\n",
    "& = \\int_{0}^{1} (1 - p)^{k-1} p f(p) dp \\\\\n",
    "& = \\frac{1}{B(\\alpha, \\beta)} \\int_{0}^{1} p^{\\alpha - 1} (1 - p)^{\\beta - 1} (1 - p)^{k - 1} p dp \\\\\n",
    "& = \\frac{1}{B(\\alpha, \\beta)} \\int_{0}^{1} p^{(\\alpha + 1) - 1} (1 - p)^{(\\beta + k - 1) - 1} dp \\\\\n",
    "& = \\frac{B(\\alpha + 1, \\beta + k - 1)}{B(\\alpha, \\beta)}\n",
    "\\end{align}\n",
    "\n",
    "for $k = 0, 1, ...$ where the definition of the [beta function](https://en.wikipedia.org/wiki/Beta_function) is used to evaluate the integral."
   ]
  },
  {
   "cell_type": "markdown",
   "metadata": {},
   "source": [
    "(d) To fit the beta-geometric model to the data, the log-likelihood of $(\\alpha, \\beta)$ is:\n",
    "\n",
    "$$\n",
    "\\log L(\\alpha, \\beta) = \\sum_{k=1}^{12}n_k \\log P(X=k) + n_{[>12]} \\log\\{1 - P(X > 12)\\}\n",
    "$$\n",
    "\n",
    "where $P(X = k)$ is given in (b) above. Numerical optimization of the log-likelihood yields."
   ]
  },
  {
   "cell_type": "code",
   "execution_count": null,
   "metadata": {},
   "outputs": [],
   "source": [
    "def neg_log_likelihood(x: np.ndarray, cycles: np.ndarray, counts: np.ndarray) -> float:\n",
    "    alpha = x[0]\n",
    "    beta = x[1]\n",
    "    n_k = counts\n",
    "    p_k = beta_geometric_probability(alpha, beta, cycles)\n",
    "    neg_log_like = -np.sum(n_k[:-1] * p_k[:-1]) - n_k[-1] * np.log(1 - p_k[-1])\n",
    "    return neg_log_like\n",
    "\n",
    "def beta_geometric_probability(alpha: float, beta: float, k: np.ndarray) -> np.ndarray:\n",
    "    prob = scipy.special.beta(alpha + 1, beta + k - 1) / scipy.special.beta(alpha, beta)\n",
    "    return prob"
   ]
  },
  {
   "cell_type": "code",
   "execution_count": null,
   "metadata": {},
   "outputs": [],
   "source": [
    "def fit_beta_geometric_model(\n",
    "    cycles: np.ndarray, counts: np.ndarray) -> Tuple[float, float]:\n",
    "    # Yikes the results are sensitive to these initial conditions! The max value is\n",
    "    # consistent but occurs at different alpha and beta values.\n",
    "    x0 = np.array([1.0, 1.0]) \n",
    "    bounds = ((1e-10, None), (1e-10, None))\n",
    "    result = minimize(neg_log_likelihood, x0, args=(cycles, counts), bounds=bounds)\n",
    "    #print(result)\n",
    "    return result.x[0], result.x[1]\n",
    "\n",
    "def print_mle(alpha_mle: float, beta_mle: float, title: str) -> None:\n",
    "    (print(title + \" alpha-hat = \", np.round(alpha_mle, 2), \", \", \n",
    "           \"beta-hat = \", np.round(beta_mle, 7)))"
   ]
  },
  {
   "cell_type": "code",
   "execution_count": null,
   "metadata": {},
   "outputs": [],
   "source": [
    "alpha_hat, beta_hat = fit_beta_geometric_model(cycles, smokers)\n",
    "print_mle(alpha_hat, beta_hat, 'Smokers')"
   ]
  },
  {
   "cell_type": "code",
   "execution_count": null,
   "metadata": {},
   "outputs": [],
   "source": [
    "def expected_frequencies(mle_probs: np.ndarray, total_count: float) -> np.ndarray:\n",
    "    freqs = mle_probs * total_count\n",
    "    return freqs\n",
    "\n",
    "def chi_squared(obs_freqs: np.ndarray, exp_freqs: np.ndarray) -> float:\n",
    "    chi_sq = np.sum((obs_freqs - exp_freqs)**2 / exp_freqs)\n",
    "    return chi_sq\n",
    "\n",
    "def print_chi_squared(chi_sq: float) -> None:\n",
    "    print(\"chi-squared = \", np.round(chi_sq, 1))"
   ]
  },
  {
   "cell_type": "code",
   "execution_count": null,
   "metadata": {},
   "outputs": [],
   "source": [
    "N = np.sum(smokers)\n",
    "mle_probs = beta_geometric_probability(alpha_hat, beta_hat, cycles)\n",
    "print(mle_probs, np.sum(mle_probs))\n",
    "exp_freqs = expected_frequencies(mle_probs, N)\n",
    "chi_sq = chi_squared(smokers, exp_freqs)\n",
    "print_chi_squared(chi_sq)"
   ]
  },
  {
   "cell_type": "markdown",
   "metadata": {},
   "source": [
    "The MLE probabilities are clearly wrong as all the probability mass is put on the first cyle. The same happens for the non-smokers below. The problem seems to stem from the MLE values but I am not sure where the bug is in the code (my code or scipy) or possibly in my math. Anyway I think the general workflow is correct in this notebook."
   ]
  },
  {
   "cell_type": "code",
   "execution_count": null,
   "metadata": {},
   "outputs": [],
   "source": [
    "alpha_hat, beta_hat = fit_beta_geometric_model(cycles, non_smokers)\n",
    "print_mle(alpha_hat, beta_hat, 'Non-smokers')"
   ]
  },
  {
   "cell_type": "code",
   "execution_count": null,
   "metadata": {},
   "outputs": [],
   "source": [
    "N = np.sum(non_smokers)\n",
    "mle_probs = beta_geometric_probability(alpha_hat, beta_hat, cycles)\n",
    "print(mle_probs, np.sum(mle_probs))\n",
    "exp_freqs = expected_frequencies(mle_probs, N)\n",
    "chi_sq = chi_squared(non_smokers, exp_freqs)\n",
    "print_chi_squared(chi_sq)"
   ]
  }
 ],
 "metadata": {
  "kernelspec": {
   "display_name": "Python 3",
   "language": "python",
   "name": "python3"
  },
  "language_info": {
   "codemirror_mode": {
    "name": "ipython",
    "version": 3
   },
   "file_extension": ".py",
   "mimetype": "text/x-python",
   "name": "python",
   "nbconvert_exporter": "python",
   "pygments_lexer": "ipython3",
   "version": "3.7.3"
  }
 },
 "nbformat": 4,
 "nbformat_minor": 4
}
