{
 "cells": [
  {
   "cell_type": "code",
   "execution_count": null,
   "metadata": {},
   "outputs": [],
   "source": [
    "import matplotlib.pyplot as plt\n",
    "import numpy as np"
   ]
  },
  {
   "cell_type": "markdown",
   "metadata": {},
   "source": [
    "(a) At the start of section 4.1 it was shown that the likelihood for a set of n independent Binomial trials is given by:\n",
    "\n",
    "\\begin{align}\n",
    "L(\\theta) & = \\prod_{i=1}^{n} \\theta^{x_i} (1-\\theta)^{1-x_i} \\\\\n",
    "& = \\theta^{\\sum_{i=1}^{n} x_i} (1 - \\theta)^{n - \\sum_{i=1}^{n} x_i}\n",
    "\\end{align}\n",
    "\n",
    "or in terms of the log-likelihood:\n",
    "\\begin{align}\n",
    "logL(\\theta) & = log \\theta \\sum_{i=1}^{n} x_i + \\log (1-\\theta) \\Bigg( {n- \\sum_{i=1}^{n} x_i} \\Bigg)\n",
    "\\end{align}"
   ]
  },
  {
   "cell_type": "markdown",
   "metadata": {},
   "source": [
    "(b) The likelihood of $\\theta$ is given by"
   ]
  },
  {
   "cell_type": "code",
   "execution_count": null,
   "metadata": {},
   "outputs": [],
   "source": [
    "k = np.array([i for i in range(7)])\n",
    "n_k_2 = np.array([42860, 89213, 47819, 0, 0, 0, 0])\n",
    "n_k_6 = np.array([1096, 6233, 15700, 22221, 17332, 7908, 1579])\n",
    "x = n_k_2 + n_k_6\n",
    "print(repr(k))\n",
    "print(repr(x))"
   ]
  },
  {
   "cell_type": "code",
   "execution_count": null,
   "metadata": {},
   "outputs": [],
   "source": [
    "def log_likelihood(k: np.ndarray, x: np.ndarray, theta: np.ndarray) -> np.ndarray:\n",
    "    n = np.sum(k * x)\n",
    "    sum_x = np.sum(x)\n",
    "    log_like = np.log(theta) * sum_x + np.log(1 - theta) * (n - sum_x)\n",
    "    #like = np.exp(log_like - np.max(log_like))  # tiny values\n",
    "    return log_like"
   ]
  },
  {
   "cell_type": "code",
   "execution_count": null,
   "metadata": {},
   "outputs": [],
   "source": [
    "theta = np.linspace(0.01, 0.99, num=100)\n",
    "log_like = log_likelihood(k, x, theta)\n",
    "plt.plot(theta, log_like)\n",
    "plt.xlabel(r'$\\theta$')\n",
    "plt.ylabel('Log likelihood')\n",
    "plt.title(r'Log likelihood of $\\theta$');"
   ]
  },
  {
   "cell_type": "markdown",
   "metadata": {},
   "source": [
    "The MLE of $\\theta$ is given by the solution to the score equation which is:\n",
    "\n",
    "$$\n",
    "\\hat{\\theta} = \\frac{1}{n} \\sum_{i=1}^{n} x_i\n",
    "$$"
   ]
  },
  {
   "cell_type": "code",
   "execution_count": null,
   "metadata": {},
   "outputs": [],
   "source": [
    "def mle(k: np.ndarray, x: np.ndarray) -> float:\n",
    "    return np.sum(x) / np.sum(k * x)"
   ]
  },
  {
   "cell_type": "code",
   "execution_count": null,
   "metadata": {},
   "outputs": [],
   "source": [
    "theta_hat = mle(k, x)\n",
    "print(f'MLE of theta = {np.round(theta_hat, 2)}')"
   ]
  },
  {
   "cell_type": "markdown",
   "metadata": {},
   "source": [
    "The standard error of $\\theta$ is given by:\n",
    "\n",
    "\\begin{align}\n",
    "se(\\hat{\\theta}) & = \\sqrt{var \\Bigg(\\frac{1}{n} \\sum_{i=1}^{n} x_i  \\Bigg)} \\\\\n",
    "& = \\sqrt{\\frac{\\hat{\\theta} (1 - \\hat{\\theta})}{n}}\n",
    "\\end{align}"
   ]
  },
  {
   "cell_type": "code",
   "execution_count": null,
   "metadata": {},
   "outputs": [],
   "source": [
    "se_theta_hat = np.sqrt((theta_hat * (1 - theta_hat)) / np.sum(k * x))\n",
    "np.round(se_theta_hat, 4)"
   ]
  },
  {
   "cell_type": "markdown",
   "metadata": {},
   "source": [
    "(c) The binomial model is not a good fit to the data as the MLE is larger than would be expected. There is not equal sampling probability amongst the familes. Extra-binomial variance is observed since the sampling is done from a mixed population of families of size 2 and families of size 6."
   ]
  }
 ],
 "metadata": {
  "kernelspec": {
   "display_name": "Python 3",
   "language": "python",
   "name": "python3"
  },
  "language_info": {
   "codemirror_mode": {
    "name": "ipython",
    "version": 3
   },
   "file_extension": ".py",
   "mimetype": "text/x-python",
   "name": "python",
   "nbconvert_exporter": "python",
   "pygments_lexer": "ipython3",
   "version": "3.7.3"
  }
 },
 "nbformat": 4,
 "nbformat_minor": 4
}
