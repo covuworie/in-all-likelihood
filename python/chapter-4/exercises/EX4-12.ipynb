{
 "cells": [
  {
   "cell_type": "code",
   "execution_count": null,
   "metadata": {},
   "outputs": [],
   "source": [
    "import matplotlib.pyplot as plt\n",
    "import numpy as np\n",
    "from scipy.stats import chi2, poisson"
   ]
  },
  {
   "cell_type": "code",
   "execution_count": null,
   "metadata": {},
   "outputs": [],
   "source": [
    "k = np.arange(6)\n",
    "n_k = np.array([109, 65, 22, 3, 1, 0])"
   ]
  },
  {
   "cell_type": "markdown",
   "metadata": {},
   "source": [
    "To fit a Poisson model to the data note that the log-likelihood is given by the expression at the bottom of page 83 in the book (as the last value does not contribute due to having zero count):\n",
    "\n",
    "$$\n",
    "\\log L(\\theta) = - \\theta \\sum_k n_k + \\sum_k k n_k \\log \\theta\n",
    "$$\n",
    "\n",
    "and the MLE was shown to be:\n",
    "\n",
    "$$\n",
    "\\hat{\\theta} = \\sum_k k n_k \\big/ \\sum_k n_k\n",
    "$$"
   ]
  },
  {
   "cell_type": "code",
   "execution_count": null,
   "metadata": {},
   "outputs": [],
   "source": [
    "def log_likelihood_poisson(\n",
    "    k: np.ndarray, n_k: np.ndarray, theta: np.ndarray) -> np.ndarray:\n",
    "    # can leave in the last value, it doesn't matter\n",
    "    log_like = - theta * np.sum(n_k) + np.sum(k * n_k) * np.log(theta)\n",
    "    return log_like\n",
    "\n",
    "\n",
    "def mle_poisson(k: np.ndarray, n_k: np.ndarray) -> float:\n",
    "    theta_hat = np.sum(k * n_k) / np.sum(n_k)\n",
    "    return theta_hat"
   ]
  },
  {
   "cell_type": "code",
   "execution_count": null,
   "metadata": {},
   "outputs": [],
   "source": [
    "theta = np.linspace(0.01, 1, num=100)\n",
    "log_like = log_likelihood_poisson(k, n_k, theta)\n",
    "like = np.exp(log_like)\n",
    "like /= np.max(like)\n",
    "mle = mle_poisson(k, n_k)\n",
    "print('MLE = ', mle)"
   ]
  },
  {
   "cell_type": "code",
   "execution_count": null,
   "metadata": {},
   "outputs": [],
   "source": [
    "def plot_likelihood(theta: np.ndarray, likelihood: np.ndarray, mle: float) -> None:\n",
    "    plt.plot(theta, likelihood)\n",
    "    plt.axvline(mle, linestyle='--')\n",
    "    plt.xlabel(r'$\\theta$')\n",
    "    plt.ylabel('Likelihood')\n",
    "    plt.legend(['likelihood', 'MLE'])\n",
    "    plt.title('Likelihood of soldiers killed by horse kicks per year');"
   ]
  },
  {
   "cell_type": "code",
   "execution_count": null,
   "metadata": {},
   "outputs": [],
   "source": [
    "plot_likelihood(theta, like, mle)"
   ]
  },
  {
   "cell_type": "markdown",
   "metadata": {},
   "source": [
    "Let's evalute the goodness of fit of the Poisson model by looking at the difference between the observed ($n_k$) and the expected frequencies:\n",
    "\n",
    "$$\n",
    "e_k = N \\hat{p}_k\n",
    "$$\n",
    "\n",
    "and using the chi square statistic:\n",
    "\n",
    "$$\n",
    "\\chi^2 = \\sum_k r_k^2\n",
    "$$\n",
    "\n",
    "where the residual:\n",
    "\n",
    "$$\n",
    "r_k = \\frac{n_k - e_k}{\\sqrt{e_k}}\n",
    "$$"
   ]
  },
  {
   "cell_type": "code",
   "execution_count": null,
   "metadata": {},
   "outputs": [],
   "source": [
    "def expected_freq(k: np.ndarray, n_k: np.ndarray, mle: float) -> np.ndarray:\n",
    "    N = np.sum(n_k)\n",
    "    p_k_hat = poisson.pmf(k, mle)\n",
    "    e_k = N * p_k_hat\n",
    "    return e_k\n",
    "\n",
    "\n",
    "def chi_sqare(k: np.ndarray, n_k: np.ndarray, mle: float) -> float:\n",
    "    e_k = expected_freq(k, n_k, mle)\n",
    "    r_k = (n_k - e_k) / np.sqrt(e_k)\n",
    "    chi_sq = np.sum(r_k ** 2)\n",
    "    return chi_sq"
   ]
  },
  {
   "cell_type": "code",
   "execution_count": null,
   "metadata": {},
   "outputs": [],
   "source": [
    "print(f'e_k = {(expected_freq(k, n_k, mle)).astype(int)}')\n",
    "print(f'n_k = {n_k}')"
   ]
  },
  {
   "cell_type": "markdown",
   "metadata": {},
   "source": [
    "It is clear from that the Poisson model is an excellent fit to the data since the expected frequencies and the observed frequencies are very similar. Or with more rigorous statistics:"
   ]
  },
  {
   "cell_type": "code",
   "execution_count": null,
   "metadata": {},
   "outputs": [],
   "source": [
    "chi_sq = np.round(chi_sqare(k, n_k, mle), 1)\n",
    "df = len(k) - 1\n",
    "print(f'observed chi-square = {chi_sq} at N = {df} degrees of freedom')\n",
    "alpha = 0.05\n",
    "exp_ch_sq = np.round(chi2.ppf(1 - alpha, df), 1)\n",
    "print(f'expected chi-square = {exp_ch_sq} at N = {df} degrees of freedom') "
   ]
  },
  {
   "cell_type": "markdown",
   "metadata": {},
   "source": [
    "The observed $\\chi^2$ value is far less than the expected $\\chi^2$ value at a significance level of $\\alpha = 0.05$. As a result, there is not sufficient evidence in the data to reject the null hypothesis that the data is drawn from a Poisson distribution."
   ]
  }
 ],
 "metadata": {
  "kernelspec": {
   "display_name": "Python 3",
   "language": "python",
   "name": "python3"
  },
  "language_info": {
   "codemirror_mode": {
    "name": "ipython",
    "version": 3
   },
   "file_extension": ".py",
   "mimetype": "text/x-python",
   "name": "python",
   "nbconvert_exporter": "python",
   "pygments_lexer": "ipython3",
   "version": "3.7.3"
  }
 },
 "nbformat": 4,
 "nbformat_minor": 4
}
