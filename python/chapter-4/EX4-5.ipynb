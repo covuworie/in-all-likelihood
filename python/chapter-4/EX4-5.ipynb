{
 "cells": [
  {
   "cell_type": "code",
   "execution_count": null,
   "metadata": {},
   "outputs": [],
   "source": [
    "import matplotlib.pyplot as plt\n",
    "import numpy as np\n",
    "from scipy.interpolate import interp1d\n",
    "from typing import Tuple"
   ]
  },
  {
   "cell_type": "code",
   "execution_count": null,
   "metadata": {},
   "outputs": [],
   "source": [
    "x = np.array([3, 2, 5, 0, 4])\n",
    "n = len(x)\n",
    "print(\"x = \", x)\n",
    "print(\"n = \", n)"
   ]
  },
  {
   "cell_type": "code",
   "execution_count": null,
   "metadata": {},
   "outputs": [],
   "source": [
    "theta_hat = np.mean(x)\n",
    "se_theta_hat = np.sqrt(theta_hat / n)\n",
    "print(\"theta_hat = \", theta_hat)\n",
    "print(\"se(theta_hat) = \", np.round(se_theta_hat, 2))"
   ]
  },
  {
   "cell_type": "code",
   "execution_count": null,
   "metadata": {},
   "outputs": [],
   "source": [
    "def poisson_likelihood(data: np.ndarray, theta: np.ndarray) -> np.ndarray:\n",
    "    log_like = -n * theta + np.log(theta) * np.sum(data)\n",
    "    like = np.exp(log_like)\n",
    "    like /= np.max(like)\n",
    "    return like"
   ]
  },
  {
   "cell_type": "code",
   "execution_count": null,
   "metadata": {},
   "outputs": [],
   "source": [
    "theta = np.linspace(0.01, 6, 50)\n",
    "likelihood = poisson_likelihood(x, theta)"
   ]
  },
  {
   "cell_type": "code",
   "execution_count": null,
   "metadata": {},
   "outputs": [],
   "source": [
    "plt.plot(theta, likelihood)\n",
    "plt.axhline(y=0.15)\n",
    "plt.axvline(x=theta_hat)\n",
    "plt.xlabel(r'$\\theta$')\n",
    "plt.ylabel('Likelihood');"
   ]
  },
  {
   "cell_type": "code",
   "execution_count": null,
   "metadata": {},
   "outputs": [],
   "source": [
    "def likelihood_interval(theta: np.ndarray,\n",
    "                        likelihood: np.ndarray,\n",
    "                        cutoff: float) -> Tuple[float, float]:\n",
    "    # intersection points occur below and above the maximum likelihood estimate\n",
    "    mle_index = np.argmax(likelihood)\n",
    "    interp_below_max = interp1d(likelihood[:mle_index], theta[:mle_index])\n",
    "    interp_above_max = interp1d(likelihood[mle_index:], theta[mle_index :])\n",
    "    lower_int = np.round(interp_below_max(cutoff).flatten()[0], 1)\n",
    "    upper_int = np.round(interp_above_max(cutoff).flatten()[0], 1)\n",
    "    return (lower_int, upper_int)"
   ]
  },
  {
   "cell_type": "code",
   "execution_count": null,
   "metadata": {},
   "outputs": [],
   "source": [
    "c = 0.15\n",
    "print(f'Approximate 95% CI = {likelihood_interval(theta, likelihood, c)}')"
   ]
  }
 ],
 "metadata": {
  "kernelspec": {
   "display_name": "Python 3",
   "language": "python",
   "name": "python3"
  },
  "language_info": {
   "codemirror_mode": {
    "name": "ipython",
    "version": 3
   },
   "file_extension": ".py",
   "mimetype": "text/x-python",
   "name": "python",
   "nbconvert_exporter": "python",
   "pygments_lexer": "ipython3",
   "version": "3.7.3"
  }
 },
 "nbformat": 4,
 "nbformat_minor": 4
}
