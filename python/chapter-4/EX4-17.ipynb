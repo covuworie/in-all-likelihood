{
 "cells": [
  {
   "cell_type": "code",
   "execution_count": null,
   "metadata": {},
   "outputs": [],
   "source": [
    "import matplotlib.pyplot as plt\n",
    "import numpy as np\n",
    "from scipy.optimize import minimize\n",
    "from scipy.stats import cauchy, norm, probplot, t, tvar"
   ]
  },
  {
   "cell_type": "markdown",
   "metadata": {},
   "source": [
    "# Heavy-tailed data example"
   ]
  },
  {
   "cell_type": "code",
   "execution_count": null,
   "metadata": {},
   "outputs": [],
   "source": [
    "data = np.array(\n",
    "    [-26.8, -3.5, -3.4, -1.2,  0.4, 1.3, 2.3, 2.7, 3.0 , 3.2,  3.2,  3.5,\n",
    "     3.6, 3.9, 4.2, 4.4, 5.0 , 6.5,  6.7,  7.1,  8.1, 10.5, 10.7, 24.0, 32.8]\n",
    ")"
   ]
  },
  {
   "cell_type": "code",
   "execution_count": null,
   "metadata": {},
   "outputs": [],
   "source": [
    "def get_aic_normal(data: np.ndarray) -> float:\n",
    "    n = len(data)\n",
    "    mu_hat = np.mean(data)\n",
    "    sigma_sq_hat = tvar(data) * (n - 1) / n\n",
    "    log_like_normal = norm.logpdf(data, loc=mu_hat, scale=np.sqrt(sigma_sq_hat))\n",
    "    aic_normal = - 2 * np.sum(log_like_normal) + 4\n",
    "    return aic_normal"
   ]
  },
  {
   "cell_type": "code",
   "execution_count": null,
   "metadata": {},
   "outputs": [],
   "source": [
    "aic_normal = get_aic_normal(data)\n",
    "print(f'normal AIC = {np.round(aic_normal, 1)}')"
   ]
  },
  {
   "cell_type": "code",
   "execution_count": null,
   "metadata": {},
   "outputs": [],
   "source": [
    "def qq_plot(data: np.ndarray, title: str, ylim: tuple) -> None:\n",
    "    probplot(data, dist='norm', fit=False, plot=plt)\n",
    "    plt.title(title)\n",
    "    plt.xlabel('Quantiles of standard normal')\n",
    "    plt.ylabel('x')\n",
    "    plt.ylim(ylim)\n",
    "    plt.show()"
   ]
  },
  {
   "cell_type": "code",
   "execution_count": null,
   "metadata": {},
   "outputs": [],
   "source": [
    "qq_plot(data, '(a) Radiation data', (-29, 35))"
   ]
  },
  {
   "cell_type": "code",
   "execution_count": null,
   "metadata": {},
   "outputs": [],
   "source": [
    "def get_mu(data: np.ndarray) -> np.ndarray:\n",
    "    n = len(data)\n",
    "    mu_hat = np.mean(data)\n",
    "    return np.linspace(\n",
    "        mu_hat + 5 * np.std(data) / np.sqrt(n),\n",
    "        mu_hat - 5 * np.std(data) / np.sqrt(n),\n",
    "        num=100)\n",
    "\n",
    "\n",
    "def profile_likelihood_normal(mu: np.ndarray, data: np.ndarray) -> np.ndarray:\n",
    "    like = []\n",
    "    for mu_ in mu:\n",
    "        neg_log_like = profile_neg_log_likelihood_mu_normal(mu_, data)\n",
    "        like.append(np.exp(-neg_log_like))\n",
    "    like /= np.max(like)\n",
    "    like = np.array(like)\n",
    "    return like\n",
    "\n",
    "\n",
    "def profile_neg_log_likelihood_mu_normal(mu: float, data: np.ndarray) -> float:\n",
    "    n = len(data)\n",
    "    sigma_mu_sq = (1 / n) * np.sum((data - mu)**2)\n",
    "    like = sigma_mu_sq **(-n / 2)\n",
    "    neg_log_like = -np.log(like)\n",
    "    return neg_log_like\n",
    "\n",
    "\n",
    "def profile_likelihood_cauchy(mu: np.ndarray, data: np.ndarray) -> np.ndarray:\n",
    "    like = []\n",
    "    x0 = 1.0\n",
    "    for mu_ in mu:\n",
    "        result = minimize(profile_neg_log_likelihood_cauchy, x0, args=(mu_,))\n",
    "        neg_log_like = result.fun\n",
    "        like.append(np.exp(-neg_log_like))\n",
    "    like /= np.max(like)\n",
    "    like = np.array(like)\n",
    "    return like\n",
    "\n",
    "def profile_neg_log_likelihood_cauchy(sigma: float, mu: float) -> float:\n",
    "    return -np.sum(cauchy.logpdf(data, loc=mu, scale=sigma))\n",
    "\n",
    "\n",
    "def neg_log_likelihood_mu_cauchy(x: np.ndarray) -> float:\n",
    "    mu = x[0]\n",
    "    sigma = x[1]\n",
    "    return -np.sum(cauchy.logpdf(data, loc=mu, scale=sigma))\n",
    "\n",
    "\n",
    "def profile_likelihood_t(mu: np.ndarray, data: np.ndarray, df: float) -> np.ndarray:\n",
    "    like = []\n",
    "    x0 = 1.0\n",
    "    for mu_ in mu:\n",
    "        result = minimize(profile_neg_log_likelihood_t, x0, args=(mu_, df))\n",
    "        neg_log_like = result.fun\n",
    "        like.append(np.exp(-neg_log_like))\n",
    "    like /= np.max(like)\n",
    "    like = np.array(like)\n",
    "    return like\n",
    "\n",
    "def profile_neg_log_likelihood_t(sigma: float, mu: float, df: float) -> float:\n",
    "    return -np.sum(t.logpdf(data, loc=mu, scale=sigma, df=df))\n",
    "\n",
    "\n",
    "def neg_log_likelihood_mu_t(x: np.ndarray, df: float) -> float:\n",
    "    mu = x[0]\n",
    "    sigma = x[1]\n",
    "    return -np.sum(t.logpdf(data, loc=mu, scale=sigma, df=df))\n",
    "\n",
    "\n",
    "def plot_profile_likelihoods(data: np.ndarray, t_dist_df: float):\n",
    "    mu = get_mu(data)\n",
    "    like_normal = profile_likelihood_normal(mu, data)\n",
    "    like_cauchy = profile_likelihood_cauchy(mu, data)\n",
    "    like_t = profile_likelihood_t(mu, data, df=t_dist_df)\n",
    "    plt.plot(mu, like_normal, '--')\n",
    "    plt.plot(mu, like_cauchy)\n",
    "    plt.plot(mu, like_t, '-.')\n",
    "    plt.axhline(y=0.15, linewidth=0.5)\n",
    "    plt.xlabel(r'$\\mu$')\n",
    "    plt.ylabel('Likelihood')\n",
    "    plt.title(r'(b) Profile likelihood of $\\mu$')\n",
    "    plt.legend(['normal', 'cauchy', 't'])"
   ]
  },
  {
   "cell_type": "code",
   "execution_count": null,
   "metadata": {},
   "outputs": [],
   "source": [
    "def cauchy_aic(initial_guess: np.ndarray):\n",
    "    result = minimize(neg_log_likelihood_mu_cauchy, initial_guess)\n",
    "    sigma_hat = result.x[0]\n",
    "    mu_hat = result.x[1]\n",
    "    aic = 2 * result.fun + 4 \n",
    "    print(f'Cauchy mu_hat = {np.round(sigma_hat, 1)}')\n",
    "    print(f'Cauchy sigma_hat = {np.round(mu_hat, 1)}')\n",
    "    print(f'Cauchy AIC = {np.round(aic, 1)}')"
   ]
  },
  {
   "cell_type": "code",
   "execution_count": null,
   "metadata": {},
   "outputs": [],
   "source": [
    "x0=np.array([0.3, 1.0])\n",
    "cauchy_aic(x0)"
   ]
  },
  {
   "cell_type": "code",
   "execution_count": null,
   "metadata": {},
   "outputs": [],
   "source": [
    "def t_dist_aic(initial_guess: np.ndarray):\n",
    "    nu = np.array([1, 2, 4, 8, 1e2, 1e3, 1e4])\n",
    "    for nu_ in nu:\n",
    "        result = minimize(neg_log_likelihood_mu_t, initial_guess, args=(nu_,))\n",
    "        sigma_hat = result.x[0]\n",
    "        mu_hat = result.x[1]\n",
    "        aic = 2 * result.fun + 4\n",
    "        print(f'nu = ', nu_)\n",
    "        print(f't-distribution mu_hat = {np.round(sigma_hat, 1)}')\n",
    "        print(f't-distribution sigma_hat = {np.round(mu_hat, 1)}')\n",
    "        print(f't-distribution AIC = {np.round(aic, 1)}')\n",
    "        print()"
   ]
  },
  {
   "cell_type": "code",
   "execution_count": null,
   "metadata": {},
   "outputs": [],
   "source": [
    "t_dist_aic(x0)"
   ]
  },
  {
   "cell_type": "code",
   "execution_count": null,
   "metadata": {},
   "outputs": [],
   "source": [
    "plot_profile_likelihoods(data, 1)"
   ]
  },
  {
   "cell_type": "markdown",
   "metadata": {},
   "source": [
    "# Speed of Light Data From Example 4.8"
   ]
  },
  {
   "cell_type": "code",
   "execution_count": null,
   "metadata": {},
   "outputs": [],
   "source": [
    "data = np.genfromtxt('../../R/LKPACK/michel.dat').flatten()\n",
    "data = data[-40:]"
   ]
  },
  {
   "cell_type": "code",
   "execution_count": null,
   "metadata": {},
   "outputs": [],
   "source": [
    "aic_normal = get_aic_normal(data)\n",
    "print(f'normal AIC = {np.round(aic_normal, 1)}')"
   ]
  },
  {
   "cell_type": "code",
   "execution_count": null,
   "metadata": {},
   "outputs": [],
   "source": [
    "qq_plot(data, '(c) Michelson data', (710, 960))"
   ]
  },
  {
   "cell_type": "code",
   "execution_count": null,
   "metadata": {},
   "outputs": [],
   "source": [
    "cauchy_aic(x0)"
   ]
  },
  {
   "cell_type": "code",
   "execution_count": null,
   "metadata": {},
   "outputs": [],
   "source": [
    "t_dist_aic(x0)"
   ]
  },
  {
   "cell_type": "code",
   "execution_count": null,
   "metadata": {},
   "outputs": [],
   "source": [
    "plot_profile_likelihoods(data, 1e3)"
   ]
  }
 ],
 "metadata": {
  "kernelspec": {
   "display_name": "Python 3",
   "language": "python",
   "name": "python3"
  },
  "language_info": {
   "codemirror_mode": {
    "name": "ipython",
    "version": 3
   },
   "file_extension": ".py",
   "mimetype": "text/x-python",
   "name": "python",
   "nbconvert_exporter": "python",
   "pygments_lexer": "ipython3",
   "version": "3.7.3"
  }
 },
 "nbformat": 4,
 "nbformat_minor": 4
}
