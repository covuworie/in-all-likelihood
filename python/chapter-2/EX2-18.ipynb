{
 "cells": [
  {
   "cell_type": "code",
   "execution_count": null,
   "metadata": {},
   "outputs": [],
   "source": [
    "import matplotlib.pyplot as plt\n",
    "import numpy as np\n",
    "from scipy.interpolate import interp1d\n",
    "from scipy.stats import binom\n",
    "from typing import List, Tuple"
   ]
  },
  {
   "cell_type": "code",
   "execution_count": null,
   "metadata": {},
   "outputs": [],
   "source": [
    "def log_like_bin(x: float, n: float, theta: List[float]) -> float:\n",
    "    log_like = binom.logpmf(x, n, theta)\n",
    "    log_like = log_like - np.max(log_like)\n",
    "    return log_like\n",
    "\n",
    "def bin_mle(x, n):\n",
    "    mle = x / n\n",
    "    return mle\n",
    "\n",
    "def bin_obs_fisher_info(n, mle):\n",
    "    obs_fisher_info = n / (mle * (1 - mle))\n",
    "    return obs_fisher_info\n",
    "\n",
    "def bin_obs_fisher_info_trans(x, n):\n",
    "    obs_fisher_info = x * (n - x) / n\n",
    "    return obs_fisher_info\n",
    "\n",
    "def approx_log_like_bin(x, n, theta: List[float]) -> float:\n",
    "    theta_hat = bin_mle(x, n)\n",
    "    i_theta_hat = bin_obs_fisher_info(n, theta_hat)\n",
    "    log_like = - 0.5 * i_theta_hat * (theta - theta_hat)**2 \n",
    "    return log_like\n",
    "\n",
    "def approx_log_like_bin_trans(x, n, theta: List[float]) -> float:\n",
    "    psi = np.log(theta) - np.log(1 - theta)\n",
    "    theta_hat = bin_mle(x, n)\n",
    "    psi_hat = np.log(theta_hat) - np.log(1 - theta_hat)\n",
    "    i_psi_hat = bin_obs_fisher_info_trans(x, n)\n",
    "    log_like = - 0.5 * i_psi_hat * (psi - psi_hat)**2 \n",
    "    return log_like"
   ]
  },
  {
   "cell_type": "code",
   "execution_count": null,
   "metadata": {},
   "outputs": [],
   "source": [
    "x = 8\n",
    "n = 10\n",
    "theta = np.linspace(0.4, 0.99, num=100)\n",
    "log_like = log_like_bin(x, n, theta)\n",
    "approx_log_like = approx_log_like_bin(x, n, theta)"
   ]
  },
  {
   "cell_type": "code",
   "execution_count": null,
   "metadata": {},
   "outputs": [],
   "source": [
    "plt.plot(theta, log_like)\n",
    "plt.plot(theta, approx_log_like, '--')\n",
    "plt.axhline(y=np.log(0.15))\n",
    "plt.xlabel(r'$\\theta$')\n",
    "plt.ylabel('Log-likelihood')\n",
    "plt.title('Probability scale');"
   ]
  },
  {
   "cell_type": "code",
   "execution_count": null,
   "metadata": {},
   "outputs": [],
   "source": [
    "def likelihood_interval(theta: List[float],\n",
    "                        likelihood: List[float],\n",
    "                        cutoff: float) -> Tuple[float, float]:\n",
    "    # intersection points occur below and above the maximum likelihood estimate\n",
    "    mle_index = np.argmax(likelihood)\n",
    "    interp_below_max = interp1d(likelihood[:mle_index], theta[:mle_index])\n",
    "    interp_above_max = interp1d(likelihood[mle_index:], theta[mle_index :])\n",
    "    lower_int = np.round(interp_below_max(cutoff).flatten()[0], 2)\n",
    "    upper_int = np.round(interp_above_max(cutoff).flatten()[0], 2)\n",
    "    return (lower_int, upper_int)"
   ]
  },
  {
   "cell_type": "code",
   "execution_count": null,
   "metadata": {},
   "outputs": [],
   "source": [
    "c = 0.15\n",
    "print(f'Likelihood interval for c = {c} is {likelihood_interval(theta, np.exp(log_like), c)}') "
   ]
  },
  {
   "cell_type": "code",
   "execution_count": null,
   "metadata": {},
   "outputs": [],
   "source": [
    "psi = np.log(theta) - np.log(1 - theta)\n",
    "approx_log_like = approx_log_like_bin_trans(x, n, theta)"
   ]
  },
  {
   "cell_type": "code",
   "execution_count": null,
   "metadata": {},
   "outputs": [],
   "source": [
    "plt.plot(psi, log_like)\n",
    "plt.plot(psi, approx_log_like, '--')\n",
    "plt.axhline(y=np.log(0.15))\n",
    "plt.ylim((-4.5, 0.1))\n",
    "plt.xlabel(r'$\\psi$')\n",
    "plt.ylabel('Log-likelihood')\n",
    "plt.title('Log-odds scale');"
   ]
  }
 ],
 "metadata": {
  "kernelspec": {
   "display_name": "Python 3",
   "language": "python",
   "name": "python3"
  },
  "language_info": {
   "codemirror_mode": {
    "name": "ipython",
    "version": 3
   },
   "file_extension": ".py",
   "mimetype": "text/x-python",
   "name": "python",
   "nbconvert_exporter": "python",
   "pygments_lexer": "ipython3",
   "version": "3.7.3"
  }
 },
 "nbformat": 4,
 "nbformat_minor": 4
}
