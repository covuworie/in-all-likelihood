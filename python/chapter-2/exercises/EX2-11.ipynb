{
 "cells": [
  {
   "cell_type": "code",
   "execution_count": null,
   "metadata": {},
   "outputs": [],
   "source": [
    "import matplotlib.pyplot as plt\n",
    "import numpy as np\n",
    "from scipy.stats import expon\n",
    "from typing import List"
   ]
  },
  {
   "cell_type": "markdown",
   "metadata": {},
   "source": [
    "(a) Let the random variable $x$ be the lifetime of a light bulb in days. We assume that the lifetime is exponential with density:\n",
    "$$p(x) = \\lambda^{-1} e^{-x/\\lambda}$$\n",
    "\n",
    "Then given $\\lambda$ (the mean time to failure):\n",
    "$$ P (x \\ge 30) = 1 - cdf(p(x)) = e^{-x/\\lambda}$$"
   ]
  },
  {
   "cell_type": "markdown",
   "metadata": {},
   "source": [
    "(b) Let $x_1,...,x_n \\sim Exp(\\lambda)$. The contribution of $x_i$ to the likelihood is:\n",
    "$$L_i(\\lambda) = \\lambda^{-1} e^{-x/\\lambda}$$\n",
    "\n",
    "and the total log-likelihood is:\n",
    "\\begin{align}\n",
    "\\log L(\\lambda) & = \\sum_{i=1}^n \\log L_i(\\lambda) \\\\\n",
    "& = -n \\log \\lambda - \\frac{1}{\\lambda} \\sum_{i=1}^n x_i \\\\\n",
    "& = -n (\\log \\lambda + \\bar{x}/\\lambda)\n",
    "\\end{align}"
   ]
  },
  {
   "cell_type": "code",
   "execution_count": null,
   "metadata": {},
   "outputs": [],
   "source": [
    "data = np.array([6, 28]) # only the first two order statistics are reported\n",
    "n = data.shape[0]\n",
    "x_bar = np.mean(data)\n",
    "lambda_ = np.linspace(1, 30, 100)"
   ]
  },
  {
   "cell_type": "code",
   "execution_count": null,
   "metadata": {},
   "outputs": [],
   "source": [
    "log_like = -n * (np.log(lambda_) + x_bar / lambda_)\n",
    "likelihood = np.exp(log_like)\n",
    "likelihood /= np.max(likelihood)"
   ]
  },
  {
   "cell_type": "code",
   "execution_count": null,
   "metadata": {},
   "outputs": [],
   "source": [
    "plt.plot(lambda_, likelihood)\n",
    "plt.title('Light bulb failure likelihood')\n",
    "plt.xlabel(r'$\\lambda$')\n",
    "plt.ylabel('Likelihood');"
   ]
  },
  {
   "cell_type": "markdown",
   "metadata": {},
   "source": [
    "Not at all sure about parts (d) and (e). "
   ]
  }
 ],
 "metadata": {
  "kernelspec": {
   "display_name": "Python 3",
   "language": "python",
   "name": "python3"
  },
  "language_info": {
   "codemirror_mode": {
    "name": "ipython",
    "version": 3
   },
   "file_extension": ".py",
   "mimetype": "text/x-python",
   "name": "python",
   "nbconvert_exporter": "python",
   "pygments_lexer": "ipython3",
   "version": "3.7.3"
  }
 },
 "nbformat": 4,
 "nbformat_minor": 4
}
