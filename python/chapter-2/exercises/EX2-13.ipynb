{
 "cells": [
  {
   "cell_type": "code",
   "execution_count": null,
   "metadata": {},
   "outputs": [],
   "source": [
    "import matplotlib.pyplot as plt\n",
    "import numpy as np\n",
    "from scipy.interpolate import interp1d\n",
    "from typing import List, Tuple"
   ]
  },
  {
   "cell_type": "code",
   "execution_count": null,
   "metadata": {},
   "outputs": [],
   "source": [
    "data = np.array([0.5, -0.32, -0.55, -0.76, -0.07, 0.44, -0.48])\n",
    "theta = np.linspace(-10, 10, 10000)"
   ]
  },
  {
   "cell_type": "markdown",
   "metadata": {},
   "source": [
    "(a) Let $x_1,...,x_n \\sim DExp(\\theta)$. The contribution of $x_i$ to the likelihood is:\n",
    "$$L_i(\\theta) = \\frac{1}{2} e^{|x_i - \\theta|} $$\n",
    "\n",
    "and the total log-likelihood is:\n",
    "\\begin{align}\n",
    "\\log L(\\theta) & = \\sum_{i=1}^n \\log L_i(\\theta) \\\\\n",
    "& = -n \\log 2 + \\sum_{i=1}^n |x_i - \\theta|\n",
    "\\end{align}"
   ]
  },
  {
   "cell_type": "code",
   "execution_count": null,
   "metadata": {},
   "outputs": [],
   "source": [
    "def log_likelihood_double_exp(theta: List[float], data: List[float]) -> List[float]:\n",
    "    log_like = []\n",
    "    for th in theta:\n",
    "        ll = 0\n",
    "        for dt in data:\n",
    "            ll += np.abs(dt - th)\n",
    "        ll *= -np.log(2)\n",
    "        log_like.append(ll)\n",
    "    return log_like"
   ]
  },
  {
   "cell_type": "code",
   "execution_count": null,
   "metadata": {},
   "outputs": [],
   "source": [
    "def plot_log_likelihood(theta: List[float], data: List[float]):\n",
    "    log_like = log_likelihood_double_exp(theta, data)\n",
    "    plt.plot(theta, log_like)\n",
    "    plt.title('Double exponential likelihood')\n",
    "    plt.xlabel(r'$\\theta$')\n",
    "    plt.ylabel('Log likelihood');"
   ]
  },
  {
   "cell_type": "code",
   "execution_count": null,
   "metadata": {},
   "outputs": [],
   "source": [
    "plot_log_likelihood(theta, data)"
   ]
  },
  {
   "cell_type": "markdown",
   "metadata": {},
   "source": [
    "(b) Then $\\hat{\\theta}$ the MLE of $\\theta$ is given by the solution to the score equation:\n",
    "\n",
    "\\begin{align}\n",
    "S(\\theta) = 0 & = \\frac{\\partial}{\\partial \\theta} \\log L(\\theta) \\\\\n",
    "& = \\sum_{i=1}^n sgn |x_i - \\theta| \\\\\n",
    "& = median(x)\n",
    "\\end{align}\n",
    "\n",
    "where the last statement is due to the following argument: https://math.stackexchange.com/questions/1678740/mle-of-double-exponential."
   ]
  },
  {
   "cell_type": "code",
   "execution_count": null,
   "metadata": {},
   "outputs": [],
   "source": [
    "print(f\"MLE = {np.median(data)}\")"
   ]
  },
  {
   "cell_type": "markdown",
   "metadata": {},
   "source": [
    "or alternatively we can use the log-likelihood directly:"
   ]
  },
  {
   "cell_type": "code",
   "execution_count": null,
   "metadata": {},
   "outputs": [],
   "source": [
    "log_like = log_like = log_likelihood_double_exp(theta, data)\n",
    "print(f\"MLE = {np.round(theta[np.argmax(log_like)], 2)}\") "
   ]
  },
  {
   "cell_type": "markdown",
   "metadata": {},
   "source": [
    "The likelihood based interval:"
   ]
  },
  {
   "cell_type": "code",
   "execution_count": null,
   "metadata": {},
   "outputs": [],
   "source": [
    "def likelihood_interval(theta: List[float],\n",
    "                        likelihood: List[float],\n",
    "                        cutoff: float) -> Tuple[float, float]:\n",
    "    # intersection points occur below and above the maximum likelihood estimate\n",
    "    mle_index = np.argmax(likelihood)\n",
    "    interp_below_max = interp1d(likelihood[:mle_index], theta[:mle_index])\n",
    "    interp_above_max = interp1d(likelihood[mle_index:], theta[mle_index :])\n",
    "    lower_int = np.round(interp_below_max(cutoff).flatten()[0], 2)\n",
    "    upper_int = np.round(interp_above_max(cutoff).flatten()[0], 2)\n",
    "    return (lower_int, upper_int)"
   ]
  },
  {
   "cell_type": "markdown",
   "metadata": {},
   "source": [
    "at a cut-off of:"
   ]
  },
  {
   "cell_type": "code",
   "execution_count": null,
   "metadata": {},
   "outputs": [],
   "source": [
    "c = 0.15 # 95% confidence interval\n",
    "print(f'Likelihood interval for c = {c} is {likelihood_interval(theta, np.exp(log_like), c)}') "
   ]
  },
  {
   "cell_type": "markdown",
   "metadata": {},
   "source": [
    "(c) If the largest value in the data is now 2.5 instead of 0.5:"
   ]
  },
  {
   "cell_type": "code",
   "execution_count": null,
   "metadata": {},
   "outputs": [],
   "source": [
    "data[0] = 2.5\n",
    "data"
   ]
  },
  {
   "cell_type": "markdown",
   "metadata": {},
   "source": [
    "then the log-loikelihood function is now:"
   ]
  },
  {
   "cell_type": "code",
   "execution_count": null,
   "metadata": {},
   "outputs": [],
   "source": [
    "plot_log_likelihood(theta, data)"
   ]
  },
  {
   "cell_type": "markdown",
   "metadata": {},
   "source": [
    "Despite the change in the largest value, the inference of the MLE $\\hat{\\theta}$ does not change. This is expected as it is the median of the data which remains unchanged. The median is known to be robust to outliers."
   ]
  },
  {
   "cell_type": "code",
   "execution_count": null,
   "metadata": {},
   "outputs": [],
   "source": [
    "print(f\"MLE = {np.median(data)}\")"
   ]
  }
 ],
 "metadata": {
  "kernelspec": {
   "display_name": "Python 3",
   "language": "python",
   "name": "python3"
  },
  "language_info": {
   "codemirror_mode": {
    "name": "ipython",
    "version": 3
   },
   "file_extension": ".py",
   "mimetype": "text/x-python",
   "name": "python",
   "nbconvert_exporter": "python",
   "pygments_lexer": "ipython3",
   "version": "3.7.3"
  }
 },
 "nbformat": 4,
 "nbformat_minor": 4
}
