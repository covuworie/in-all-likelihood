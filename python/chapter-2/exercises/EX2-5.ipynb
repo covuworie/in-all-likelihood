{
 "cells": [
  {
   "cell_type": "code",
   "execution_count": null,
   "metadata": {},
   "outputs": [],
   "source": [
    "import matplotlib.pyplot as plt\n",
    "import numpy as np\n",
    "from typing import List"
   ]
  },
  {
   "cell_type": "code",
   "execution_count": null,
   "metadata": {},
   "outputs": [],
   "source": [
    "data = np.array([73, 75, 84, 76, 93, 79, 85, 80, 76, 78, 80])\n",
    "data_ordered = np.sort(data)"
   ]
  },
  {
   "cell_type": "code",
   "execution_count": null,
   "metadata": {},
   "outputs": [],
   "source": [
    "mean = np.mean(data)\n",
    "sigma2 = np.var(data)\n",
    "median = np.median(data)\n",
    "minimum, maximum = np.min(data), np.max(data)\n",
    "x_1, x_2 = data_ordered[:2]"
   ]
  },
  {
   "cell_type": "code",
   "execution_count": null,
   "metadata": {},
   "outputs": [],
   "source": [
    "def plot_likelihood(data_reported: List[float], label: str) -> None:\n",
    "    theta = np.linspace(minimum, maximum, 100)\n",
    "    log_like = []\n",
    "    for th in theta:\n",
    "        ll = 0\n",
    "        for dt in data_reported:\n",
    "            ll += (dt - th)**2\n",
    "        ll *= - 1 / (2 * sigma2)\n",
    "        log_like.append(ll)\n",
    "    \n",
    "    plt.plot(theta, np.exp(log_like))\n",
    "    plt.title(f'Heart rate (beats/min) of a person during the day\\n if {label} reported')\n",
    "    plt.xlabel(r'$\\theta$')\n",
    "    plt.ylabel('Likelihood');"
   ]
  },
  {
   "cell_type": "code",
   "execution_count": null,
   "metadata": {},
   "outputs": [],
   "source": [
    "plot_likelihood(data, 'whole data')"
   ]
  },
  {
   "cell_type": "code",
   "execution_count": null,
   "metadata": {},
   "outputs": [],
   "source": [
    "plot_likelihood([mean], 'mean')"
   ]
  },
  {
   "cell_type": "code",
   "execution_count": null,
   "metadata": {},
   "outputs": [],
   "source": [
    "plot_likelihood([median], 'median')"
   ]
  },
  {
   "cell_type": "code",
   "execution_count": null,
   "metadata": {},
   "outputs": [],
   "source": [
    "plot_likelihood([minimum, maximum], 'min and max')"
   ]
  },
  {
   "cell_type": "code",
   "execution_count": null,
   "metadata": {},
   "outputs": [],
   "source": [
    "plot_likelihood([x_1, x_2], 'x_(1) and x_(2)')"
   ]
  }
 ],
 "metadata": {
  "kernelspec": {
   "display_name": "Python 3",
   "language": "python",
   "name": "python3"
  },
  "language_info": {
   "codemirror_mode": {
    "name": "ipython",
    "version": 3
   },
   "file_extension": ".py",
   "mimetype": "text/x-python",
   "name": "python",
   "nbconvert_exporter": "python",
   "pygments_lexer": "ipython3",
   "version": "3.7.3"
  }
 },
 "nbformat": 4,
 "nbformat_minor": 4
}
