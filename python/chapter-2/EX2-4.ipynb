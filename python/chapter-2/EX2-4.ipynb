{
 "cells": [
  {
   "cell_type": "code",
   "execution_count": null,
   "metadata": {},
   "outputs": [],
   "source": [
    "import matplotlib.pyplot as plt\n",
    "import numpy as np\n",
    "from scipy.stats import norm"
   ]
  },
  {
   "cell_type": "code",
   "execution_count": null,
   "metadata": {},
   "outputs": [],
   "source": [
    "theta = np.linspace(-1, 6, num=100)"
   ]
  },
  {
   "cell_type": "code",
   "execution_count": null,
   "metadata": {},
   "outputs": [],
   "source": [
    "likelihood_245 = norm.pdf(2.45, theta, 1)\n",
    "likelihood_245 /= np.max(likelihood_245)\n",
    "likelihood_09_4 = norm.cdf(4, theta) - norm.cdf(0.9, theta)\n",
    "likelihood_09_4 /= np.max(likelihood_09_4)\n",
    "likelihood_max_35 = 5 * np.power(norm.cdf(3.5, theta), 5-1) * norm.pdf(3.5, theta)\n",
    "likelihood_max_35 /= np.max(likelihood_max_35)"
   ]
  },
  {
   "cell_type": "code",
   "execution_count": null,
   "metadata": {},
   "outputs": [],
   "source": [
    "plt.plot(theta, likelihood_245, '--')\n",
    "plt.plot(theta, likelihood_09_4)\n",
    "plt.plot(theta, likelihood_max_35, '.')\n",
    "plt.title('Normal mean examples')\n",
    "plt.xlabel(r'$\\theta$')\n",
    "plt.ylabel('Likelihood');"
   ]
  }
 ],
 "metadata": {
  "kernelspec": {
   "display_name": "Python 3",
   "language": "python",
   "name": "python3"
  },
  "language_info": {
   "codemirror_mode": {
    "name": "ipython",
    "version": 3
   },
   "file_extension": ".py",
   "mimetype": "text/x-python",
   "name": "python",
   "nbconvert_exporter": "python",
   "pygments_lexer": "ipython3",
   "version": "3.7.3"
  }
 },
 "nbformat": 4,
 "nbformat_minor": 4
}
