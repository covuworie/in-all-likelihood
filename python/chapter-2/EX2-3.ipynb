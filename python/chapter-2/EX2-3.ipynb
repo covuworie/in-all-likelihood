{
 "cells": [
  {
   "cell_type": "code",
   "execution_count": null,
   "metadata": {},
   "outputs": [],
   "source": [
    "import matplotlib.pyplot as plt\n",
    "import numpy as np\n",
    "from scipy.stats import nbinom, geom"
   ]
  },
  {
   "cell_type": "code",
   "execution_count": null,
   "metadata": {},
   "outputs": [],
   "source": [
    "theta = np.linspace(0.0001, 0.1, num=100)"
   ]
  },
  {
   "cell_type": "code",
   "execution_count": null,
   "metadata": {},
   "outputs": [],
   "source": [
    "likelihood_gm = geom.pmf(52, theta)\n",
    "likelihood_gm /= np.max(likelihood_gm)\n",
    "likelihood_nb = nbinom.pmf(552 - 5, 5, theta)\n",
    "likelihood_nb /= np.max(likelihood_nb)"
   ]
  },
  {
   "cell_type": "code",
   "execution_count": null,
   "metadata": {},
   "outputs": [],
   "source": [
    "plt.plot(theta, likelihood_gm)\n",
    "plt.plot(theta, likelihood_nb, '--')\n",
    "plt.title('Prevalence probability')\n",
    "plt.xlabel(r'$\\theta$')\n",
    "plt.ylabel('Likelihood');"
   ]
  }
 ],
 "metadata": {
  "kernelspec": {
   "display_name": "Python 3",
   "language": "python",
   "name": "python3"
  },
  "language_info": {
   "codemirror_mode": {
    "name": "ipython",
    "version": 3
   },
   "file_extension": ".py",
   "mimetype": "text/x-python",
   "name": "python",
   "nbconvert_exporter": "python",
   "pygments_lexer": "ipython3",
   "version": "3.7.3"
  }
 },
 "nbformat": 4,
 "nbformat_minor": 4
}
