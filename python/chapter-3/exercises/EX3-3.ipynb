{
 "cells": [
  {
   "cell_type": "markdown",
   "metadata": {},
   "source": [
    "We have shown that if $x_1, ..., x_n$ are an iid sample from $N(\\theta, 1)$ then $\\bar{x}$ is sufficient for $\\theta$.\n",
    "\n",
    "We want to show that the conditional distribution of $X_1, ... X_n$ given $T = t = \\bar{x} = \\frac{1}{n} \\sum_{i=1}^n x_i$ is free of $\\theta$. First we can show, for example using the [moment generating function technique](https://newonlinecourses.science.psu.edu/stat414/node/172/), that:\n",
    "\n",
    "$$\\sum_{i=1}^n x_i \\equiv n \\bar{x} \\equiv nt \\sim N(n \\theta, n)$$\n",
    "\n",
    "so $T \\sim N(\\theta, 1)$. Then, using the Bayes theorem we have \n",
    "\n",
    "\\begin{align}\n",
    "P(X_1 = x_1, ..., X_n = x_n | T = t) & = \\frac{P(X_1 = x_1, ..., X_n = x_n, T = t)}{P(T = t)} \\\\\n",
    "& = \\frac{P(X_1 = x_1, ..., X_n = x_n)}{P(T = t)} \\\\\n",
    "& = \\frac{\\sim N(\\theta, 1)}{\\sim N(\\theta, 1)} \\\\\n",
    "& = 1\n",
    "\\end{align}\n",
    "\n",
    "which is free of $\\theta$."
   ]
  }
 ],
 "metadata": {
  "kernelspec": {
   "display_name": "Python 3",
   "language": "python",
   "name": "python3"
  },
  "language_info": {
   "codemirror_mode": {
    "name": "ipython",
    "version": 3
   },
   "file_extension": ".py",
   "mimetype": "text/x-python",
   "name": "python",
   "nbconvert_exporter": "python",
   "pygments_lexer": "ipython3",
   "version": "3.7.3"
  }
 },
 "nbformat": 4,
 "nbformat_minor": 4
}
