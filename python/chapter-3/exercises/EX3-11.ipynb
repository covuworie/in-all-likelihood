{
 "cells": [
  {
   "cell_type": "markdown",
   "metadata": {},
   "source": [
    "Suppose $x_1, ... x_n \\sim IG(\\mu, \\lambda)$ with density:\n",
    "\n",
    "$$\n",
    "p(x) = \\bigg(\\frac{\\lambda}{2 \\pi x^3} \\bigg)^{1/2} \\exp \\bigg[- \\frac{\\lambda}{2 \\mu^2} \\frac{(x - \\mu)^2}{x} \\bigg]\n",
    "$$\n",
    "\n",
    "then, ignoring irrelevant terms the log-likelihood, is given by:\n",
    "\n",
    "$$\n",
    "log L(\\mu, \\lambda) = \\frac{n}{2} \\log \\lambda - \\frac{\\lambda}{2 \\mu^2} \\sum_{i=1}^{n} \\frac{(x_i - \\mu)^2}{x_i}\n",
    "$$"
   ]
  },
  {
   "cell_type": "markdown",
   "metadata": {},
   "source": [
    "(a) The score equations for the MLE are given by:\n",
    "\n",
    "$$\n",
    "\\begin{align}\n",
    "\\frac{\\partial}{\\partial \\mu} \\log L(\\mu, \\lambda) & = \\frac{\\lambda}{\\mu^3} \\sum_{i=1}^{n} \\frac{(x_i - \\mu)^2}{x_i} + \\frac{\\lambda} {\\mu^2} \\sum_{i=1}^{n} \\frac{(x_i - \\mu)}{x_i} \\\\\n",
    "& = \\frac{\\lambda}{\\mu^3} \\sum_{i=1}^{n} \\frac{(x_i - \\mu)^2}{x_i} \\bigg[1 + \\frac{\\mu}{(x_i - \\mu)} \\bigg] \\\\\n",
    "& = \\frac{\\lambda}{\\mu^3} \\bigg[ \\sum_{i=1}^{n} x_i - n \\mu \\bigg] \\\\\n",
    "& = \\frac{n \\lambda}{\\mu^3}[\\bar{x} - \\mu] = 0\n",
    "\\end{align}\n",
    "$$\n",
    "and\n",
    "$$\n",
    "\\frac{\\partial}{\\partial \\lambda} \\log L(\\mu, \\lambda) = \\frac{n}{2 \\lambda} - \\frac{1}{2 \\mu^2} \\sum_{i=1}^{n} \\frac{(x_i - \\mu)^2}{x_i} = 0\n",
    "$$\n",
    "\n",
    "The MLEs are the solutions to the above equations and are given by:\n",
    "\n",
    "$$\n",
    "\\hat{\\mu} = \\bar{x}\n",
    "$$\n",
    "\n",
    "and \n",
    "\n",
    "$$\n",
    "\\begin{align}\n",
    "0 & = \\frac{n}{2 \\hat{\\lambda}} - \\frac{1}{2 \\bar{x}^2} \\sum_{i=1}^n \\frac{(x_i - \\bar{x})^2}{x_i} \\\\\n",
    "& =  \\frac{n}{2 \\hat{\\lambda}} - \\frac{1}{2 \\bar{x}^2} \\sum_{i=1}^n \\bigg( x_i - 2 \\bar{x} + \\frac{\\bar{x}^2}{x_i} \\bigg) \\\\\n",
    "& =  \\frac{n}{2 \\hat{\\lambda}} - \\frac{1}{2 \\bar{x}^2} \\bigg( n \\bar{x} - 2n \\bar{x} + \\bar{x}^2 \\sum_{i=1}^n \\frac{1}{x_i} \\bigg) \\\\\n",
    "& = \\frac{n}{2 \\hat{\\lambda}} - \\frac{n}{2} \\bigg( \\frac{1}{n} \\sum_{i=1}^n \\frac{1}{x_i} - \\frac{1}{\\bar{x}} \\bigg) \\\\\n",
    "& = \\frac{n}{2} \\bigg[ \\frac{1}{\\hat{\\lambda}} - \\bigg( \\frac{1}{n} \\sum_{i=1}^n \\frac{1}{x_i} - \\frac{1}{\\bar{x}} \\bigg) \\bigg]\n",
    "\\end{align}\n",
    "$$\n",
    "\n",
    "So:\n",
    "$$\n",
    "\\hat{\\lambda} = \\bigg( \\frac{1}{\\tilde{x}} - \\frac{1}{\\bar{x}} \\bigg)^{-1}\n",
    "$$\n",
    "\n",
    "where the harmonic sample mean is given by:\n",
    "\n",
    "$$\n",
    "\\tilde{x} = \\frac{n}{\\sum_{i=1}^n \\frac{1}{x_i}}\n",
    "$$"
   ]
  },
  {
   "cell_type": "markdown",
   "metadata": {},
   "source": [
    "(b) The off-diagonal elements of the Fisher information matrix are given by:\n",
    "\n",
    "$$\n",
    "- \\frac{\\partial^2}{\\partial \\lambda \\partial \\mu} \\log L(\\mu, \\lambda) \\bigg|_{\\mu = \\hat{\\mu}, \\lambda = \\hat{\\lambda}} = \\frac{\\partial^2}{ \\partial \\mu \\partial \\lambda} \\log L(\\mu, \\lambda) \\bigg|_{\\mu = \\hat{\\mu}, \\lambda = \\hat{\\lambda}} = 0\n",
    "$$\n",
    "\n",
    "The diagonal elements are given by:\n",
    "\n",
    "$$\n",
    "- \\frac{\\partial^2}{\\partial \\mu^2} \\log L(\\mu, \\lambda) \\bigg|_{\\mu = \\hat{\\mu}, \\lambda = \\hat{\\lambda}} = \\frac{n \\hat{\\lambda}}{\\bar{x}^3}\n",
    "$$\n",
    "\n",
    "and\n",
    "\n",
    "$$\n",
    "- \\frac{\\partial^2}{\\partial \\lambda^2} \\log L(\\mu, \\lambda) \\bigg|_{\\mu = \\hat{\\mu}, \\lambda = \\hat{\\lambda}} = \\frac{n}{\\hat{\\lambda}^2}\n",
    "$$"
   ]
  }
 ],
 "metadata": {
  "kernelspec": {
   "display_name": "Python 3",
   "language": "python",
   "name": "python3"
  },
  "language_info": {
   "codemirror_mode": {
    "name": "ipython",
    "version": 3
   },
   "file_extension": ".py",
   "mimetype": "text/x-python",
   "name": "python",
   "nbconvert_exporter": "python",
   "pygments_lexer": "ipython3",
   "version": "3.7.3"
  }
 },
 "nbformat": 4,
 "nbformat_minor": 4
}
