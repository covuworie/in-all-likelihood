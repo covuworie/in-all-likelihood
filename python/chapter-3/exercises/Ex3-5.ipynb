{
 "cells": [
  {
   "cell_type": "markdown",
   "metadata": {},
   "source": [
    "If $x_1, ..., x_n$ are an iid sample from the double-exponential (Laplace) distribution with density:\n",
    "\n",
    "$$p_{\\theta}(x) = (2 \\theta)^{-1} exp (-|x|/\\theta)$$\n",
    "\n",
    "then from the factorization theorem it is obvious that $$t(x) = \\sum_i |x_i|$$ is sufficient.\n",
    "\n",
    "We want to show that the conditional distribution of the data given T = t is free of $\\theta$. According to the following discussion, it seems that we can infer that the [distribution of T](https://math.stackexchange.com/questions/199460/distribution-of-sum-of-absolute-value-of-random-variable) is given by $T \\sim Gamma(n \\theta, n)$. Then using Bayes theorem we have:\n",
    "\n",
    "\n",
    "$$\n",
    "\\begin{align}\n",
    "P(X_1 = x_1, ..., X_n = x_n | T = t) & = \\frac{P(X_1 = x_1, ..., X_n = x_n, T = t)}{P(T = t)} \\\\\n",
    "& = \\frac{P(X_1 = x_1, ..., X_n = x_n)}{P(T = t)} \\\\\n",
    "& = \\frac{(2 \\theta)^{-n} exp (-t/\\theta)}{\\Gamma (n)^{-1} (n \\theta)^{-n} t^{n - 1 } exp (-t/\\theta)} \\\\\n",
    "& = \\frac{\\Gamma (n)}{t^{n - 1}} \\bigg( \\frac{2}{n} \\bigg)^{-n}\n",
    "\\end{align}\n",
    "$$\n",
    "\n",
    "which is free of $\\theta$ as expected."
   ]
  }
 ],
 "metadata": {
  "kernelspec": {
   "display_name": "Python 3",
   "language": "python",
   "name": "python3"
  },
  "language_info": {
   "codemirror_mode": {
    "name": "ipython",
    "version": 3
   },
   "file_extension": ".py",
   "mimetype": "text/x-python",
   "name": "python",
   "nbconvert_exporter": "python",
   "pygments_lexer": "ipython3",
   "version": "3.7.3"
  }
 },
 "nbformat": 4,
 "nbformat_minor": 4
}
