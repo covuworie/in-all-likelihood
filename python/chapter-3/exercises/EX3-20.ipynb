{
 "cells": [
  {
   "cell_type": "markdown",
   "metadata": {},
   "source": [
    "In section 3.4 we are told that \"the information index $I_{11}$ is the curvature of the log-likelihood of $\\theta_1$ , where $\\theta_2$ is assumed known at the observed MLE $\\hat{\\theta}_2$, while $(I^{11})^{-1}$ is the information on $\\theta_1$ that takes into account that $\\theta_2$ is unknown. Hence, it is sensible $I_{11}$ is greater than $(I^{11})^{-1}$.\"\n",
    "\n",
    "Clearly, if $I_{11} = (I^{11})^{-1}$, we have no uncertainty about $\\theta_2$. It must be known at the observed MLE $\\hat{\\theta}_2$. Statistically, there is no inference to be performed on $\\theta_2$ and we have a stastical model that is truly only a one parameter model dependent on $\\theta_1$. Essentially, with regards to the parameter $\\theta_2$, the sample we have is a perfect representation of the population about which we are trying to make inferences."
   ]
  }
 ],
 "metadata": {
  "kernelspec": {
   "display_name": "Python 3",
   "language": "python",
   "name": "python3"
  },
  "language_info": {
   "codemirror_mode": {
    "name": "ipython",
    "version": 3
   },
   "file_extension": ".py",
   "mimetype": "text/x-python",
   "name": "python",
   "nbconvert_exporter": "python",
   "pygments_lexer": "ipython3",
   "version": "3.7.3"
  }
 },
 "nbformat": 4,
 "nbformat_minor": 4
}
