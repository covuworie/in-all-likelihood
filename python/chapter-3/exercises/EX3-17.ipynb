{
 "cells": [
  {
   "cell_type": "code",
   "execution_count": null,
   "metadata": {},
   "outputs": [],
   "source": [
    "import matplotlib.pyplot as plt\n",
    "import numpy as np"
   ]
  },
  {
   "cell_type": "code",
   "execution_count": null,
   "metadata": {},
   "outputs": [],
   "source": [
    "data = np.array([0.88, 1.07, 1.27, 1.54, 1.91, 2.27, 3.84, 4.50, 4.64, 9.41])"
   ]
  },
  {
   "cell_type": "markdown",
   "metadata": {},
   "source": [
    "In example 3.10 it was shown that the profile likelihood of $\\sigma^2$ is given by:\n",
    "\n",
    "$$\n",
    "L(\\sigma^2) \\propto (\\sigma^2)^{-n/2} \\exp \\{-n \\hat{\\sigma}^2 / (2 \\sigma^2) \\}\n",
    "$$\n",
    "\n",
    "where:\n",
    "\n",
    "$$\n",
    "\\hat{\\sigma}^2 = \\frac{1}{n} \\sum_{i=1}^n (x_i - \\bar{x})^2\n",
    "$$\n",
    "\n",
    "so:"
   ]
  },
  {
   "cell_type": "code",
   "execution_count": null,
   "metadata": {},
   "outputs": [],
   "source": [
    "n = len(data)\n",
    "x_bar = np.mean(data)\n",
    "sigma_hat_sq = (1 / n) * np.sum((data - x_bar)**2)\n",
    "np.round(x_bar, 2), np.round(sigma_hat_sq, 2)"
   ]
  },
  {
   "cell_type": "code",
   "execution_count": null,
   "metadata": {},
   "outputs": [],
   "source": [
    "sigma_sq = np.linspace(-3, 3, 100)**2"
   ]
  },
  {
   "cell_type": "code",
   "execution_count": null,
   "metadata": {},
   "outputs": [],
   "source": [
    "def profile_likelihood(n:int, sigma_hat_sq: float, sigma_sq: float) -> float:\n",
    "    like =  np.exp((-n * sigma_hat_sq) / (2 * sigma_sq)) * sigma_sq**(-n/2)\n",
    "    like /= np.max(like)\n",
    "    return like"
   ]
  },
  {
   "cell_type": "code",
   "execution_count": null,
   "metadata": {},
   "outputs": [],
   "source": [
    "profile_like = profile_likelihood(n, sigma_hat_sq, sigma_sq)"
   ]
  },
  {
   "cell_type": "code",
   "execution_count": null,
   "metadata": {},
   "outputs": [],
   "source": [
    "plt.plot(sigma_sq, profile_like)\n",
    "plt.title('Profile likelihood')\n",
    "plt.xlabel(r'$\\sigma^2$')\n",
    "plt.ylabel('Likelihood');"
   ]
  },
  {
   "cell_type": "markdown",
   "metadata": {},
   "source": [
    "It is explained that $(n-1)s^2 / \\sigma^2 \\sim \\chi_{n-1}^2$, where the sample variance is commonly defined as:\n",
    "\n",
    "$$\n",
    "s^2 = \\frac{1}{n-1}  \\sum_{i=1}^{n} (x_i - \\bar{x})^2,\n",
    "$$\n",
    "\n",
    "would generate a so-called second-stage likelihood of $\\sigma^2$ free of $\\mu$. Using the definition of $\\hat{\\sigma^2}$ we have that alternatively:\n",
    "\n",
    "$$\n",
    "n \\frac{ \\hat{\\sigma}^2}{\\sigma^2} \\sim {\\chi_{n-1}^2}\n",
    "$$\n",
    "\n",
    "or alternatively:\n",
    "\n",
    "$$\n",
    "\\frac{n-1}{\\chi_{n-1}^2} s^2 \\sim \\sigma^2\n",
    "$$\n",
    "\n",
    "What I don't get about this part of the question is how to get a second-stage likelihood that is a function of $\\sigma^2$ from the chi squared distribution with n-1 degrees of freedom. I suspect though that the likelihoods would be very similar."
   ]
  }
 ],
 "metadata": {
  "kernelspec": {
   "display_name": "Python 3",
   "language": "python",
   "name": "python3"
  },
  "language_info": {
   "codemirror_mode": {
    "name": "ipython",
    "version": 3
   },
   "file_extension": ".py",
   "mimetype": "text/x-python",
   "name": "python",
   "nbconvert_exporter": "python",
   "pygments_lexer": "ipython3",
   "version": "3.7.3"
  }
 },
 "nbformat": 4,
 "nbformat_minor": 4
}
