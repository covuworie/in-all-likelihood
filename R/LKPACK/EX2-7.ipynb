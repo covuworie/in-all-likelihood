{
 "cells": [
  {
   "cell_type": "code",
   "execution_count": null,
   "metadata": {},
   "outputs": [],
   "source": [
    "import matplotlib.pyplot as plt\n",
    "import numpy as np\n",
    "from scipy.stats import norm"
   ]
  },
  {
   "cell_type": "code",
   "execution_count": null,
   "metadata": {},
   "outputs": [],
   "source": [
    "theta = np.linspace(0, 6, num=100)"
   ]
  },
  {
   "cell_type": "code",
   "execution_count": null,
   "metadata": {},
   "outputs": [],
   "source": [
    "likelihood_max_35 = 5 * np.power(norm.cdf(3.5, theta), 5-1) * norm.pdf(3.5, theta)\n",
    "likelihood_max_35 /= np.max(likelihood_max_35)\n",
    "likelihood_ybar = norm.pdf(4, theta, 1/3)\n",
    "likelihood_ybar /= np.max(likelihood_ybar)\n",
    "like_comb = np.exp(np.log(likelihood_max_35) + np.log(likelihood_ybar))\n",
    "like_comb /= np.max(like_comb)"
   ]
  },
  {
   "cell_type": "code",
   "execution_count": null,
   "metadata": {},
   "outputs": [],
   "source": [
    "plt.plot(theta, likelihood_max_35, '--')\n",
    "plt.plot(theta, likelihood_ybar, '.')\n",
    "plt.plot(theta, like_comb)\n",
    "plt.title('Combining likelihoods')\n",
    "plt.xlabel(r'$\\theta$')\n",
    "plt.ylabel('Likelihood');"
   ]
  }
 ],
 "metadata": {
  "kernelspec": {
   "display_name": "Python 3",
   "language": "python",
   "name": "python3"
  },
  "language_info": {
   "codemirror_mode": {
    "name": "ipython",
    "version": 3
   },
   "file_extension": ".py",
   "mimetype": "text/x-python",
   "name": "python",
   "nbconvert_exporter": "python",
   "pygments_lexer": "ipython3",
   "version": "3.7.3"
  }
 },
 "nbformat": 4,
 "nbformat_minor": 4
}
